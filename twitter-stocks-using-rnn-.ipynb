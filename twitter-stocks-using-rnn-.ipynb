{
 "cells": [
  {
   "cell_type": "markdown",
   "metadata": {},
   "source": [
    "# Twitter stock Prediction\n",
    "\n",
    "## About Dataset\n",
    "\n",
    "DataSet is taken from Kaggle - https://www.kaggle.com/datasets/maharshipandya/twitter-stocks-dataset?select=twitter-stocks.csv\n",
    "This is a dataset of Twitter stock prices over a range of 9 years. The stock prices' date ranges from November 2013 to October 2022. The data is in CSV format which is tabular and can be loaded quickly.\n",
    "\n",
    "## Column Description\n",
    "There are 7 columns in this dataset.\n",
    "\n",
    "Note: The currency is in USD ($)\n",
    "\n",
    "- **Date**: The date for which the stock data is considered.\n",
    "- **Open**: The stock's opening price on that day.\n",
    "- **High**: The stock's highest price on that day.\n",
    "- **Low**: The stock's lowest price on that day.\n",
    "- **Close**: The stock's closing price on that day. The close price is adjusted for splits.\n",
    "- **Adj Close**: Adjusted close price adjusted for splits and dividend and/or capital gain distributions.\n",
    "- **Volume**: Volume measures the number of shares traded in a stock or contracts traded in futures or options."
   ]
  },
  {
   "cell_type": "markdown",
   "metadata": {},
   "source": [
    "# Import the Modules"
   ]
  },
  {
   "cell_type": "code",
   "execution_count": 10,
   "metadata": {
    "execution": {
     "iopub.execute_input": "2023-09-14T13:38:14.416251Z",
     "iopub.status.busy": "2023-09-14T13:38:14.415274Z",
     "iopub.status.idle": "2023-09-14T13:38:14.458278Z",
     "shell.execute_reply": "2023-09-14T13:38:14.456645Z",
     "shell.execute_reply.started": "2023-09-14T13:38:14.416199Z"
    }
   },
   "outputs": [],
   "source": [
    "import numpy as np\n",
    "import pandas as pd\n",
    "from matplotlib import pyplot as plt\n",
    "import seaborn as sns\n",
    "\n",
    "from sklearn.preprocessing import MinMaxScaler\n",
    "\n",
    "import tensorflow as tf\n",
    "tf.random.set_seed(42)\n",
    "\n",
    "from tensorflow import keras\n",
    "from tensorflow.keras import layers\n",
    "from tensorflow.keras.optimizers import Adam"
   ]
  },
  {
   "cell_type": "code",
   "execution_count": 11,
   "metadata": {},
   "outputs": [],
   "source": [
    "import keras.backend as K\n",
    "\n",
    "# Clear the Keras session\n",
    "K.clear_session()"
   ]
  },
  {
   "cell_type": "markdown",
   "metadata": {},
   "source": [
    "# Load the Dataset"
   ]
  },
  {
   "cell_type": "code",
   "execution_count": 12,
   "metadata": {
    "execution": {
     "iopub.execute_input": "2023-09-14T12:26:12.258504Z",
     "iopub.status.busy": "2023-09-14T12:26:12.257280Z",
     "iopub.status.idle": "2023-09-14T12:26:12.287522Z",
     "shell.execute_reply": "2023-09-14T12:26:12.286365Z",
     "shell.execute_reply.started": "2023-09-14T12:26:12.258462Z"
    }
   },
   "outputs": [],
   "source": [
    "df = pd.read_csv('https://raw.githubusercontent.com/rachanabv07/Twitter-Stock-Prediction/main/twitter-stocks.csv')"
   ]
  },
  {
   "cell_type": "code",
   "execution_count": 20,
   "metadata": {
    "execution": {
     "iopub.execute_input": "2023-09-14T12:26:12.291081Z",
     "iopub.status.busy": "2023-09-14T12:26:12.290245Z",
     "iopub.status.idle": "2023-09-14T12:26:12.323628Z",
     "shell.execute_reply": "2023-09-14T12:26:12.322367Z",
     "shell.execute_reply.started": "2023-09-14T12:26:12.291038Z"
    }
   },
   "outputs": [
    {
     "data": {
      "text/html": [
       "<div>\n",
       "<style scoped>\n",
       "    .dataframe tbody tr th:only-of-type {\n",
       "        vertical-align: middle;\n",
       "    }\n",
       "\n",
       "    .dataframe tbody tr th {\n",
       "        vertical-align: top;\n",
       "    }\n",
       "\n",
       "    .dataframe thead th {\n",
       "        text-align: right;\n",
       "    }\n",
       "</style>\n",
       "<table border=\"1\" class=\"dataframe\">\n",
       "  <thead>\n",
       "    <tr style=\"text-align: right;\">\n",
       "      <th></th>\n",
       "      <th>Date</th>\n",
       "      <th>Open</th>\n",
       "      <th>High</th>\n",
       "      <th>Low</th>\n",
       "      <th>Close</th>\n",
       "      <th>Adj Close</th>\n",
       "      <th>Volume</th>\n",
       "    </tr>\n",
       "  </thead>\n",
       "  <tbody>\n",
       "    <tr>\n",
       "      <th>0</th>\n",
       "      <td>2013-11-07</td>\n",
       "      <td>45.099998</td>\n",
       "      <td>50.090000</td>\n",
       "      <td>44.000000</td>\n",
       "      <td>44.900002</td>\n",
       "      <td>44.900002</td>\n",
       "      <td>117701670.0</td>\n",
       "    </tr>\n",
       "    <tr>\n",
       "      <th>1</th>\n",
       "      <td>2013-11-08</td>\n",
       "      <td>45.930000</td>\n",
       "      <td>46.939999</td>\n",
       "      <td>40.685001</td>\n",
       "      <td>41.650002</td>\n",
       "      <td>41.650002</td>\n",
       "      <td>27925307.0</td>\n",
       "    </tr>\n",
       "    <tr>\n",
       "      <th>2</th>\n",
       "      <td>2013-11-11</td>\n",
       "      <td>40.500000</td>\n",
       "      <td>43.000000</td>\n",
       "      <td>39.400002</td>\n",
       "      <td>42.900002</td>\n",
       "      <td>42.900002</td>\n",
       "      <td>16113941.0</td>\n",
       "    </tr>\n",
       "    <tr>\n",
       "      <th>3</th>\n",
       "      <td>2013-11-12</td>\n",
       "      <td>43.660000</td>\n",
       "      <td>43.779999</td>\n",
       "      <td>41.830002</td>\n",
       "      <td>41.900002</td>\n",
       "      <td>41.900002</td>\n",
       "      <td>6316755.0</td>\n",
       "    </tr>\n",
       "    <tr>\n",
       "      <th>4</th>\n",
       "      <td>2013-11-13</td>\n",
       "      <td>41.029999</td>\n",
       "      <td>42.869999</td>\n",
       "      <td>40.759998</td>\n",
       "      <td>42.599998</td>\n",
       "      <td>42.599998</td>\n",
       "      <td>8688325.0</td>\n",
       "    </tr>\n",
       "    <tr>\n",
       "      <th>...</th>\n",
       "      <td>...</td>\n",
       "      <td>...</td>\n",
       "      <td>...</td>\n",
       "      <td>...</td>\n",
       "      <td>...</td>\n",
       "      <td>...</td>\n",
       "      <td>...</td>\n",
       "    </tr>\n",
       "    <tr>\n",
       "      <th>2254</th>\n",
       "      <td>2022-10-21</td>\n",
       "      <td>50.000000</td>\n",
       "      <td>50.750000</td>\n",
       "      <td>49.549999</td>\n",
       "      <td>49.889999</td>\n",
       "      <td>49.889999</td>\n",
       "      <td>51209029.0</td>\n",
       "    </tr>\n",
       "    <tr>\n",
       "      <th>2255</th>\n",
       "      <td>2022-10-24</td>\n",
       "      <td>50.709999</td>\n",
       "      <td>51.860001</td>\n",
       "      <td>50.520000</td>\n",
       "      <td>51.520000</td>\n",
       "      <td>51.520000</td>\n",
       "      <td>22987553.0</td>\n",
       "    </tr>\n",
       "    <tr>\n",
       "      <th>2256</th>\n",
       "      <td>2022-10-25</td>\n",
       "      <td>52.415001</td>\n",
       "      <td>53.180000</td>\n",
       "      <td>52.200001</td>\n",
       "      <td>52.779999</td>\n",
       "      <td>52.779999</td>\n",
       "      <td>35077848.0</td>\n",
       "    </tr>\n",
       "    <tr>\n",
       "      <th>2257</th>\n",
       "      <td>2022-10-26</td>\n",
       "      <td>52.950001</td>\n",
       "      <td>53.500000</td>\n",
       "      <td>52.770000</td>\n",
       "      <td>53.349998</td>\n",
       "      <td>53.349998</td>\n",
       "      <td>28064973.0</td>\n",
       "    </tr>\n",
       "    <tr>\n",
       "      <th>2258</th>\n",
       "      <td>2022-10-27</td>\n",
       "      <td>53.910000</td>\n",
       "      <td>54.000000</td>\n",
       "      <td>53.700001</td>\n",
       "      <td>53.700001</td>\n",
       "      <td>53.700001</td>\n",
       "      <td>136345128.0</td>\n",
       "    </tr>\n",
       "  </tbody>\n",
       "</table>\n",
       "<p>2259 rows × 7 columns</p>\n",
       "</div>"
      ],
      "text/plain": [
       "            Date       Open       High        Low      Close  Adj Close  \\\n",
       "0     2013-11-07  45.099998  50.090000  44.000000  44.900002  44.900002   \n",
       "1     2013-11-08  45.930000  46.939999  40.685001  41.650002  41.650002   \n",
       "2     2013-11-11  40.500000  43.000000  39.400002  42.900002  42.900002   \n",
       "3     2013-11-12  43.660000  43.779999  41.830002  41.900002  41.900002   \n",
       "4     2013-11-13  41.029999  42.869999  40.759998  42.599998  42.599998   \n",
       "...          ...        ...        ...        ...        ...        ...   \n",
       "2254  2022-10-21  50.000000  50.750000  49.549999  49.889999  49.889999   \n",
       "2255  2022-10-24  50.709999  51.860001  50.520000  51.520000  51.520000   \n",
       "2256  2022-10-25  52.415001  53.180000  52.200001  52.779999  52.779999   \n",
       "2257  2022-10-26  52.950001  53.500000  52.770000  53.349998  53.349998   \n",
       "2258  2022-10-27  53.910000  54.000000  53.700001  53.700001  53.700001   \n",
       "\n",
       "           Volume  \n",
       "0     117701670.0  \n",
       "1      27925307.0  \n",
       "2      16113941.0  \n",
       "3       6316755.0  \n",
       "4       8688325.0  \n",
       "...           ...  \n",
       "2254   51209029.0  \n",
       "2255   22987553.0  \n",
       "2256   35077848.0  \n",
       "2257   28064973.0  \n",
       "2258  136345128.0  \n",
       "\n",
       "[2259 rows x 7 columns]"
      ]
     },
     "execution_count": 20,
     "metadata": {},
     "output_type": "execute_result"
    }
   ],
   "source": [
    "df"
   ]
  },
  {
   "cell_type": "markdown",
   "metadata": {},
   "source": [
    "# Explore Twitter Data"
   ]
  },
  {
   "cell_type": "code",
   "execution_count": 21,
   "metadata": {
    "execution": {
     "iopub.execute_input": "2023-09-14T12:26:12.328474Z",
     "iopub.status.busy": "2023-09-14T12:26:12.328039Z",
     "iopub.status.idle": "2023-09-14T12:26:12.336985Z",
     "shell.execute_reply": "2023-09-14T12:26:12.335430Z",
     "shell.execute_reply.started": "2023-09-14T12:26:12.328441Z"
    }
   },
   "outputs": [
    {
     "data": {
      "text/plain": [
       "(2259, 7)"
      ]
     },
     "execution_count": 21,
     "metadata": {},
     "output_type": "execute_result"
    }
   ],
   "source": [
    "df.shape"
   ]
  },
  {
   "cell_type": "code",
   "execution_count": 22,
   "metadata": {
    "execution": {
     "iopub.execute_input": "2023-09-14T12:26:12.339314Z",
     "iopub.status.busy": "2023-09-14T12:26:12.338920Z",
     "iopub.status.idle": "2023-09-14T12:26:12.389875Z",
     "shell.execute_reply": "2023-09-14T12:26:12.388442Z",
     "shell.execute_reply.started": "2023-09-14T12:26:12.339282Z"
    }
   },
   "outputs": [
    {
     "data": {
      "text/html": [
       "<div>\n",
       "<style scoped>\n",
       "    .dataframe tbody tr th:only-of-type {\n",
       "        vertical-align: middle;\n",
       "    }\n",
       "\n",
       "    .dataframe tbody tr th {\n",
       "        vertical-align: top;\n",
       "    }\n",
       "\n",
       "    .dataframe thead th {\n",
       "        text-align: right;\n",
       "    }\n",
       "</style>\n",
       "<table border=\"1\" class=\"dataframe\">\n",
       "  <thead>\n",
       "    <tr style=\"text-align: right;\">\n",
       "      <th></th>\n",
       "      <th>Open</th>\n",
       "      <th>High</th>\n",
       "      <th>Low</th>\n",
       "      <th>Close</th>\n",
       "      <th>Adj Close</th>\n",
       "      <th>Volume</th>\n",
       "    </tr>\n",
       "  </thead>\n",
       "  <tbody>\n",
       "    <tr>\n",
       "      <th>count</th>\n",
       "      <td>2259.000000</td>\n",
       "      <td>2259.000000</td>\n",
       "      <td>2259.000000</td>\n",
       "      <td>2259.000000</td>\n",
       "      <td>2259.000000</td>\n",
       "      <td>2.259000e+03</td>\n",
       "    </tr>\n",
       "    <tr>\n",
       "      <th>mean</th>\n",
       "      <td>36.020286</td>\n",
       "      <td>36.699881</td>\n",
       "      <td>35.339465</td>\n",
       "      <td>36.003625</td>\n",
       "      <td>36.003625</td>\n",
       "      <td>2.175186e+07</td>\n",
       "    </tr>\n",
       "    <tr>\n",
       "      <th>std</th>\n",
       "      <td>14.118463</td>\n",
       "      <td>14.372057</td>\n",
       "      <td>13.828724</td>\n",
       "      <td>14.089989</td>\n",
       "      <td>14.089989</td>\n",
       "      <td>1.909988e+07</td>\n",
       "    </tr>\n",
       "    <tr>\n",
       "      <th>min</th>\n",
       "      <td>13.950000</td>\n",
       "      <td>14.220000</td>\n",
       "      <td>13.725000</td>\n",
       "      <td>14.010000</td>\n",
       "      <td>14.010000</td>\n",
       "      <td>0.000000e+00</td>\n",
       "    </tr>\n",
       "    <tr>\n",
       "      <th>25%</th>\n",
       "      <td>25.550000</td>\n",
       "      <td>26.215001</td>\n",
       "      <td>24.912501</td>\n",
       "      <td>25.410000</td>\n",
       "      <td>25.410000</td>\n",
       "      <td>1.233530e+07</td>\n",
       "    </tr>\n",
       "    <tr>\n",
       "      <th>50%</th>\n",
       "      <td>35.419998</td>\n",
       "      <td>36.099998</td>\n",
       "      <td>34.820000</td>\n",
       "      <td>35.490002</td>\n",
       "      <td>35.490002</td>\n",
       "      <td>1.691305e+07</td>\n",
       "    </tr>\n",
       "    <tr>\n",
       "      <th>75%</th>\n",
       "      <td>44.205000</td>\n",
       "      <td>45.015000</td>\n",
       "      <td>43.327501</td>\n",
       "      <td>44.135000</td>\n",
       "      <td>44.135000</td>\n",
       "      <td>2.428082e+07</td>\n",
       "    </tr>\n",
       "    <tr>\n",
       "      <th>max</th>\n",
       "      <td>78.360001</td>\n",
       "      <td>80.750000</td>\n",
       "      <td>76.050003</td>\n",
       "      <td>77.629997</td>\n",
       "      <td>77.629997</td>\n",
       "      <td>2.692131e+08</td>\n",
       "    </tr>\n",
       "  </tbody>\n",
       "</table>\n",
       "</div>"
      ],
      "text/plain": [
       "              Open         High          Low        Close    Adj Close  \\\n",
       "count  2259.000000  2259.000000  2259.000000  2259.000000  2259.000000   \n",
       "mean     36.020286    36.699881    35.339465    36.003625    36.003625   \n",
       "std      14.118463    14.372057    13.828724    14.089989    14.089989   \n",
       "min      13.950000    14.220000    13.725000    14.010000    14.010000   \n",
       "25%      25.550000    26.215001    24.912501    25.410000    25.410000   \n",
       "50%      35.419998    36.099998    34.820000    35.490002    35.490002   \n",
       "75%      44.205000    45.015000    43.327501    44.135000    44.135000   \n",
       "max      78.360001    80.750000    76.050003    77.629997    77.629997   \n",
       "\n",
       "             Volume  \n",
       "count  2.259000e+03  \n",
       "mean   2.175186e+07  \n",
       "std    1.909988e+07  \n",
       "min    0.000000e+00  \n",
       "25%    1.233530e+07  \n",
       "50%    1.691305e+07  \n",
       "75%    2.428082e+07  \n",
       "max    2.692131e+08  "
      ]
     },
     "execution_count": 22,
     "metadata": {},
     "output_type": "execute_result"
    }
   ],
   "source": [
    "df.describe()"
   ]
  },
  {
   "cell_type": "code",
   "execution_count": 23,
   "metadata": {
    "execution": {
     "iopub.execute_input": "2023-09-14T12:26:12.391713Z",
     "iopub.status.busy": "2023-09-14T12:26:12.391357Z",
     "iopub.status.idle": "2023-09-14T12:26:12.424846Z",
     "shell.execute_reply": "2023-09-14T12:26:12.423239Z",
     "shell.execute_reply.started": "2023-09-14T12:26:12.391683Z"
    }
   },
   "outputs": [
    {
     "name": "stdout",
     "output_type": "stream",
     "text": [
      "<class 'pandas.core.frame.DataFrame'>\n",
      "RangeIndex: 2259 entries, 0 to 2258\n",
      "Data columns (total 7 columns):\n",
      " #   Column     Non-Null Count  Dtype  \n",
      "---  ------     --------------  -----  \n",
      " 0   Date       2259 non-null   object \n",
      " 1   Open       2259 non-null   float64\n",
      " 2   High       2259 non-null   float64\n",
      " 3   Low        2259 non-null   float64\n",
      " 4   Close      2259 non-null   float64\n",
      " 5   Adj Close  2259 non-null   float64\n",
      " 6   Volume     2259 non-null   float64\n",
      "dtypes: float64(6), object(1)\n",
      "memory usage: 123.7+ KB\n"
     ]
    }
   ],
   "source": [
    "df.info()"
   ]
  },
  {
   "cell_type": "code",
   "execution_count": 25,
   "metadata": {
    "execution": {
     "iopub.execute_input": "2023-09-14T12:26:12.427594Z",
     "iopub.status.busy": "2023-09-14T12:26:12.427193Z",
     "iopub.status.idle": "2023-09-14T12:26:12.440256Z",
     "shell.execute_reply": "2023-09-14T12:26:12.438624Z",
     "shell.execute_reply.started": "2023-09-14T12:26:12.427561Z"
    }
   },
   "outputs": [
    {
     "data": {
      "text/plain": [
       "Date         0\n",
       "Open         0\n",
       "High         0\n",
       "Low          0\n",
       "Close        0\n",
       "Adj Close    0\n",
       "Volume       0\n",
       "dtype: int64"
      ]
     },
     "execution_count": 25,
     "metadata": {},
     "output_type": "execute_result"
    }
   ],
   "source": [
    "df.isnull().sum()"
   ]
  },
  {
   "cell_type": "markdown",
   "metadata": {},
   "source": [
    "# Data Cleaning"
   ]
  },
  {
   "cell_type": "code",
   "execution_count": 26,
   "metadata": {
    "execution": {
     "iopub.execute_input": "2023-09-14T12:26:12.442591Z",
     "iopub.status.busy": "2023-09-14T12:26:12.442211Z",
     "iopub.status.idle": "2023-09-14T12:26:12.459649Z",
     "shell.execute_reply": "2023-09-14T12:26:12.457830Z",
     "shell.execute_reply.started": "2023-09-14T12:26:12.442558Z"
    }
   },
   "outputs": [],
   "source": [
    "#converting Date(object) to Date(datetime64[ns])  \n",
    "df['Date']= pd.to_datetime(df['Date'])"
   ]
  },
  {
   "cell_type": "code",
   "execution_count": 27,
   "metadata": {
    "execution": {
     "iopub.execute_input": "2023-09-14T12:26:12.466949Z",
     "iopub.status.busy": "2023-09-14T12:26:12.466324Z",
     "iopub.status.idle": "2023-09-14T12:26:12.477443Z",
     "shell.execute_reply": "2023-09-14T12:26:12.475562Z",
     "shell.execute_reply.started": "2023-09-14T12:26:12.466897Z"
    }
   },
   "outputs": [],
   "source": [
    "df[\"year\"] = df[\"Date\"].dt.year"
   ]
  },
  {
   "cell_type": "code",
   "execution_count": 28,
   "metadata": {
    "execution": {
     "iopub.execute_input": "2023-09-14T12:26:12.480434Z",
     "iopub.status.busy": "2023-09-14T12:26:12.479934Z",
     "iopub.status.idle": "2023-09-14T12:26:12.491353Z",
     "shell.execute_reply": "2023-09-14T12:26:12.489966Z",
     "shell.execute_reply.started": "2023-09-14T12:26:12.480389Z"
    }
   },
   "outputs": [
    {
     "name": "stdout",
     "output_type": "stream",
     "text": [
      "datetime64[ns]\n"
     ]
    }
   ],
   "source": [
    "print(df.Date.dtype)"
   ]
  },
  {
   "cell_type": "code",
   "execution_count": 29,
   "metadata": {
    "execution": {
     "iopub.execute_input": "2023-09-14T12:26:12.493610Z",
     "iopub.status.busy": "2023-09-14T12:26:12.493081Z",
     "iopub.status.idle": "2023-09-14T12:26:12.505224Z",
     "shell.execute_reply": "2023-09-14T12:26:12.504203Z",
     "shell.execute_reply.started": "2023-09-14T12:26:12.493562Z"
    }
   },
   "outputs": [],
   "source": [
    "df = df.set_index(\"Date\")"
   ]
  },
  {
   "cell_type": "code",
   "execution_count": 30,
   "metadata": {
    "execution": {
     "iopub.execute_input": "2023-09-14T12:26:12.507922Z",
     "iopub.status.busy": "2023-09-14T12:26:12.507432Z",
     "iopub.status.idle": "2023-09-14T12:26:12.530221Z",
     "shell.execute_reply": "2023-09-14T12:26:12.529247Z",
     "shell.execute_reply.started": "2023-09-14T12:26:12.507858Z"
    }
   },
   "outputs": [
    {
     "data": {
      "text/html": [
       "<div>\n",
       "<style scoped>\n",
       "    .dataframe tbody tr th:only-of-type {\n",
       "        vertical-align: middle;\n",
       "    }\n",
       "\n",
       "    .dataframe tbody tr th {\n",
       "        vertical-align: top;\n",
       "    }\n",
       "\n",
       "    .dataframe thead th {\n",
       "        text-align: right;\n",
       "    }\n",
       "</style>\n",
       "<table border=\"1\" class=\"dataframe\">\n",
       "  <thead>\n",
       "    <tr style=\"text-align: right;\">\n",
       "      <th></th>\n",
       "      <th>Open</th>\n",
       "      <th>High</th>\n",
       "      <th>Low</th>\n",
       "      <th>Close</th>\n",
       "      <th>Adj Close</th>\n",
       "      <th>Volume</th>\n",
       "      <th>year</th>\n",
       "    </tr>\n",
       "    <tr>\n",
       "      <th>Date</th>\n",
       "      <th></th>\n",
       "      <th></th>\n",
       "      <th></th>\n",
       "      <th></th>\n",
       "      <th></th>\n",
       "      <th></th>\n",
       "      <th></th>\n",
       "    </tr>\n",
       "  </thead>\n",
       "  <tbody>\n",
       "    <tr>\n",
       "      <th>2013-11-07</th>\n",
       "      <td>45.099998</td>\n",
       "      <td>50.090000</td>\n",
       "      <td>44.000000</td>\n",
       "      <td>44.900002</td>\n",
       "      <td>44.900002</td>\n",
       "      <td>117701670.0</td>\n",
       "      <td>2013</td>\n",
       "    </tr>\n",
       "    <tr>\n",
       "      <th>2013-11-08</th>\n",
       "      <td>45.930000</td>\n",
       "      <td>46.939999</td>\n",
       "      <td>40.685001</td>\n",
       "      <td>41.650002</td>\n",
       "      <td>41.650002</td>\n",
       "      <td>27925307.0</td>\n",
       "      <td>2013</td>\n",
       "    </tr>\n",
       "    <tr>\n",
       "      <th>2013-11-11</th>\n",
       "      <td>40.500000</td>\n",
       "      <td>43.000000</td>\n",
       "      <td>39.400002</td>\n",
       "      <td>42.900002</td>\n",
       "      <td>42.900002</td>\n",
       "      <td>16113941.0</td>\n",
       "      <td>2013</td>\n",
       "    </tr>\n",
       "    <tr>\n",
       "      <th>2013-11-12</th>\n",
       "      <td>43.660000</td>\n",
       "      <td>43.779999</td>\n",
       "      <td>41.830002</td>\n",
       "      <td>41.900002</td>\n",
       "      <td>41.900002</td>\n",
       "      <td>6316755.0</td>\n",
       "      <td>2013</td>\n",
       "    </tr>\n",
       "    <tr>\n",
       "      <th>2013-11-13</th>\n",
       "      <td>41.029999</td>\n",
       "      <td>42.869999</td>\n",
       "      <td>40.759998</td>\n",
       "      <td>42.599998</td>\n",
       "      <td>42.599998</td>\n",
       "      <td>8688325.0</td>\n",
       "      <td>2013</td>\n",
       "    </tr>\n",
       "  </tbody>\n",
       "</table>\n",
       "</div>"
      ],
      "text/plain": [
       "                 Open       High        Low      Close  Adj Close  \\\n",
       "Date                                                                \n",
       "2013-11-07  45.099998  50.090000  44.000000  44.900002  44.900002   \n",
       "2013-11-08  45.930000  46.939999  40.685001  41.650002  41.650002   \n",
       "2013-11-11  40.500000  43.000000  39.400002  42.900002  42.900002   \n",
       "2013-11-12  43.660000  43.779999  41.830002  41.900002  41.900002   \n",
       "2013-11-13  41.029999  42.869999  40.759998  42.599998  42.599998   \n",
       "\n",
       "                 Volume  year  \n",
       "Date                           \n",
       "2013-11-07  117701670.0  2013  \n",
       "2013-11-08   27925307.0  2013  \n",
       "2013-11-11   16113941.0  2013  \n",
       "2013-11-12    6316755.0  2013  \n",
       "2013-11-13    8688325.0  2013  "
      ]
     },
     "execution_count": 30,
     "metadata": {},
     "output_type": "execute_result"
    }
   ],
   "source": [
    "df.head()"
   ]
  },
  {
   "cell_type": "code",
   "execution_count": 31,
   "metadata": {
    "execution": {
     "iopub.execute_input": "2023-09-14T12:26:12.532461Z",
     "iopub.status.busy": "2023-09-14T12:26:12.531379Z",
     "iopub.status.idle": "2023-09-14T12:26:12.545759Z",
     "shell.execute_reply": "2023-09-14T12:26:12.544833Z",
     "shell.execute_reply.started": "2023-09-14T12:26:12.532403Z"
    }
   },
   "outputs": [
    {
     "name": "stdout",
     "output_type": "stream",
     "text": [
      "(2259, 7)\n"
     ]
    }
   ],
   "source": [
    "#Setting the Frequency to Business Days\n",
    "\n",
    "print(df.shape)"
   ]
  },
  {
   "cell_type": "code",
   "execution_count": 32,
   "metadata": {
    "execution": {
     "iopub.execute_input": "2023-09-14T12:26:12.547899Z",
     "iopub.status.busy": "2023-09-14T12:26:12.547318Z",
     "iopub.status.idle": "2023-09-14T12:26:12.631285Z",
     "shell.execute_reply": "2023-09-14T12:26:12.629599Z",
     "shell.execute_reply.started": "2023-09-14T12:26:12.547866Z"
    }
   },
   "outputs": [],
   "source": [
    "Data = df.asfreq(\"b\")"
   ]
  },
  {
   "cell_type": "code",
   "execution_count": 33,
   "metadata": {
    "execution": {
     "iopub.execute_input": "2023-09-14T12:26:12.633234Z",
     "iopub.status.busy": "2023-09-14T12:26:12.632648Z",
     "iopub.status.idle": "2023-09-14T12:26:12.639076Z",
     "shell.execute_reply": "2023-09-14T12:26:12.637988Z",
     "shell.execute_reply.started": "2023-09-14T12:26:12.633199Z"
    }
   },
   "outputs": [
    {
     "name": "stdout",
     "output_type": "stream",
     "text": [
      "(2341, 7)\n"
     ]
    }
   ],
   "source": [
    "print(Data.shape)"
   ]
  },
  {
   "cell_type": "code",
   "execution_count": 34,
   "metadata": {
    "execution": {
     "iopub.execute_input": "2023-09-14T12:26:12.641269Z",
     "iopub.status.busy": "2023-09-14T12:26:12.640598Z",
     "iopub.status.idle": "2023-09-14T12:26:12.666084Z",
     "shell.execute_reply": "2023-09-14T12:26:12.664877Z",
     "shell.execute_reply.started": "2023-09-14T12:26:12.641236Z"
    }
   },
   "outputs": [
    {
     "data": {
      "text/html": [
       "<div>\n",
       "<style scoped>\n",
       "    .dataframe tbody tr th:only-of-type {\n",
       "        vertical-align: middle;\n",
       "    }\n",
       "\n",
       "    .dataframe tbody tr th {\n",
       "        vertical-align: top;\n",
       "    }\n",
       "\n",
       "    .dataframe thead th {\n",
       "        text-align: right;\n",
       "    }\n",
       "</style>\n",
       "<table border=\"1\" class=\"dataframe\">\n",
       "  <thead>\n",
       "    <tr style=\"text-align: right;\">\n",
       "      <th></th>\n",
       "      <th>Open</th>\n",
       "      <th>High</th>\n",
       "      <th>Low</th>\n",
       "      <th>Close</th>\n",
       "      <th>Adj Close</th>\n",
       "      <th>Volume</th>\n",
       "      <th>year</th>\n",
       "    </tr>\n",
       "    <tr>\n",
       "      <th>Date</th>\n",
       "      <th></th>\n",
       "      <th></th>\n",
       "      <th></th>\n",
       "      <th></th>\n",
       "      <th></th>\n",
       "      <th></th>\n",
       "      <th></th>\n",
       "    </tr>\n",
       "  </thead>\n",
       "  <tbody>\n",
       "    <tr>\n",
       "      <th>2013-11-07</th>\n",
       "      <td>45.099998</td>\n",
       "      <td>50.090000</td>\n",
       "      <td>44.000000</td>\n",
       "      <td>44.900002</td>\n",
       "      <td>44.900002</td>\n",
       "      <td>117701670.0</td>\n",
       "      <td>2013.0</td>\n",
       "    </tr>\n",
       "    <tr>\n",
       "      <th>2013-11-08</th>\n",
       "      <td>45.930000</td>\n",
       "      <td>46.939999</td>\n",
       "      <td>40.685001</td>\n",
       "      <td>41.650002</td>\n",
       "      <td>41.650002</td>\n",
       "      <td>27925307.0</td>\n",
       "      <td>2013.0</td>\n",
       "    </tr>\n",
       "    <tr>\n",
       "      <th>2013-11-11</th>\n",
       "      <td>40.500000</td>\n",
       "      <td>43.000000</td>\n",
       "      <td>39.400002</td>\n",
       "      <td>42.900002</td>\n",
       "      <td>42.900002</td>\n",
       "      <td>16113941.0</td>\n",
       "      <td>2013.0</td>\n",
       "    </tr>\n",
       "    <tr>\n",
       "      <th>2013-11-12</th>\n",
       "      <td>43.660000</td>\n",
       "      <td>43.779999</td>\n",
       "      <td>41.830002</td>\n",
       "      <td>41.900002</td>\n",
       "      <td>41.900002</td>\n",
       "      <td>6316755.0</td>\n",
       "      <td>2013.0</td>\n",
       "    </tr>\n",
       "    <tr>\n",
       "      <th>2013-11-13</th>\n",
       "      <td>41.029999</td>\n",
       "      <td>42.869999</td>\n",
       "      <td>40.759998</td>\n",
       "      <td>42.599998</td>\n",
       "      <td>42.599998</td>\n",
       "      <td>8688325.0</td>\n",
       "      <td>2013.0</td>\n",
       "    </tr>\n",
       "  </tbody>\n",
       "</table>\n",
       "</div>"
      ],
      "text/plain": [
       "                 Open       High        Low      Close  Adj Close  \\\n",
       "Date                                                                \n",
       "2013-11-07  45.099998  50.090000  44.000000  44.900002  44.900002   \n",
       "2013-11-08  45.930000  46.939999  40.685001  41.650002  41.650002   \n",
       "2013-11-11  40.500000  43.000000  39.400002  42.900002  42.900002   \n",
       "2013-11-12  43.660000  43.779999  41.830002  41.900002  41.900002   \n",
       "2013-11-13  41.029999  42.869999  40.759998  42.599998  42.599998   \n",
       "\n",
       "                 Volume    year  \n",
       "Date                             \n",
       "2013-11-07  117701670.0  2013.0  \n",
       "2013-11-08   27925307.0  2013.0  \n",
       "2013-11-11   16113941.0  2013.0  \n",
       "2013-11-12    6316755.0  2013.0  \n",
       "2013-11-13    8688325.0  2013.0  "
      ]
     },
     "execution_count": 34,
     "metadata": {},
     "output_type": "execute_result"
    }
   ],
   "source": [
    "Data.head()"
   ]
  },
  {
   "cell_type": "code",
   "execution_count": 35,
   "metadata": {
    "execution": {
     "iopub.execute_input": "2023-09-14T12:26:12.668372Z",
     "iopub.status.busy": "2023-09-14T12:26:12.667964Z",
     "iopub.status.idle": "2023-09-14T12:26:12.681816Z",
     "shell.execute_reply": "2023-09-14T12:26:12.680671Z",
     "shell.execute_reply.started": "2023-09-14T12:26:12.668327Z"
    }
   },
   "outputs": [
    {
     "data": {
      "text/plain": [
       "Open         82\n",
       "High         82\n",
       "Low          82\n",
       "Close        82\n",
       "Adj Close    82\n",
       "Volume       82\n",
       "year         82\n",
       "dtype: int64"
      ]
     },
     "execution_count": 35,
     "metadata": {},
     "output_type": "execute_result"
    }
   ],
   "source": [
    "Data.isnull().sum()"
   ]
  },
  {
   "cell_type": "code",
   "execution_count": 36,
   "metadata": {
    "execution": {
     "iopub.execute_input": "2023-09-14T12:26:12.684176Z",
     "iopub.status.busy": "2023-09-14T12:26:12.683362Z",
     "iopub.status.idle": "2023-09-14T12:26:12.695457Z",
     "shell.execute_reply": "2023-09-14T12:26:12.693975Z",
     "shell.execute_reply.started": "2023-09-14T12:26:12.684140Z"
    }
   },
   "outputs": [],
   "source": [
    "#Getting the Dates of Missing Values\n",
    "null_data = Data[Data.isnull().any(axis=1) ]"
   ]
  },
  {
   "cell_type": "code",
   "execution_count": 37,
   "metadata": {
    "execution": {
     "iopub.execute_input": "2023-09-14T12:26:12.700394Z",
     "iopub.status.busy": "2023-09-14T12:26:12.699286Z",
     "iopub.status.idle": "2023-09-14T12:26:12.723415Z",
     "shell.execute_reply": "2023-09-14T12:26:12.722206Z",
     "shell.execute_reply.started": "2023-09-14T12:26:12.700332Z"
    }
   },
   "outputs": [
    {
     "data": {
      "text/html": [
       "<div>\n",
       "<style scoped>\n",
       "    .dataframe tbody tr th:only-of-type {\n",
       "        vertical-align: middle;\n",
       "    }\n",
       "\n",
       "    .dataframe tbody tr th {\n",
       "        vertical-align: top;\n",
       "    }\n",
       "\n",
       "    .dataframe thead th {\n",
       "        text-align: right;\n",
       "    }\n",
       "</style>\n",
       "<table border=\"1\" class=\"dataframe\">\n",
       "  <thead>\n",
       "    <tr style=\"text-align: right;\">\n",
       "      <th></th>\n",
       "      <th>Open</th>\n",
       "      <th>High</th>\n",
       "      <th>Low</th>\n",
       "      <th>Close</th>\n",
       "      <th>Adj Close</th>\n",
       "      <th>Volume</th>\n",
       "      <th>year</th>\n",
       "    </tr>\n",
       "    <tr>\n",
       "      <th>Date</th>\n",
       "      <th></th>\n",
       "      <th></th>\n",
       "      <th></th>\n",
       "      <th></th>\n",
       "      <th></th>\n",
       "      <th></th>\n",
       "      <th></th>\n",
       "    </tr>\n",
       "  </thead>\n",
       "  <tbody>\n",
       "    <tr>\n",
       "      <th>2013-11-28</th>\n",
       "      <td>NaN</td>\n",
       "      <td>NaN</td>\n",
       "      <td>NaN</td>\n",
       "      <td>NaN</td>\n",
       "      <td>NaN</td>\n",
       "      <td>NaN</td>\n",
       "      <td>NaN</td>\n",
       "    </tr>\n",
       "    <tr>\n",
       "      <th>2013-12-25</th>\n",
       "      <td>NaN</td>\n",
       "      <td>NaN</td>\n",
       "      <td>NaN</td>\n",
       "      <td>NaN</td>\n",
       "      <td>NaN</td>\n",
       "      <td>NaN</td>\n",
       "      <td>NaN</td>\n",
       "    </tr>\n",
       "    <tr>\n",
       "      <th>2014-01-01</th>\n",
       "      <td>NaN</td>\n",
       "      <td>NaN</td>\n",
       "      <td>NaN</td>\n",
       "      <td>NaN</td>\n",
       "      <td>NaN</td>\n",
       "      <td>NaN</td>\n",
       "      <td>NaN</td>\n",
       "    </tr>\n",
       "    <tr>\n",
       "      <th>2014-01-20</th>\n",
       "      <td>NaN</td>\n",
       "      <td>NaN</td>\n",
       "      <td>NaN</td>\n",
       "      <td>NaN</td>\n",
       "      <td>NaN</td>\n",
       "      <td>NaN</td>\n",
       "      <td>NaN</td>\n",
       "    </tr>\n",
       "    <tr>\n",
       "      <th>2014-02-17</th>\n",
       "      <td>NaN</td>\n",
       "      <td>NaN</td>\n",
       "      <td>NaN</td>\n",
       "      <td>NaN</td>\n",
       "      <td>NaN</td>\n",
       "      <td>NaN</td>\n",
       "      <td>NaN</td>\n",
       "    </tr>\n",
       "  </tbody>\n",
       "</table>\n",
       "</div>"
      ],
      "text/plain": [
       "            Open  High  Low  Close  Adj Close  Volume  year\n",
       "Date                                                       \n",
       "2013-11-28   NaN   NaN  NaN    NaN        NaN     NaN   NaN\n",
       "2013-12-25   NaN   NaN  NaN    NaN        NaN     NaN   NaN\n",
       "2014-01-01   NaN   NaN  NaN    NaN        NaN     NaN   NaN\n",
       "2014-01-20   NaN   NaN  NaN    NaN        NaN     NaN   NaN\n",
       "2014-02-17   NaN   NaN  NaN    NaN        NaN     NaN   NaN"
      ]
     },
     "execution_count": 37,
     "metadata": {},
     "output_type": "execute_result"
    }
   ],
   "source": [
    "null_data.head()"
   ]
  },
  {
   "cell_type": "code",
   "execution_count": 38,
   "metadata": {
    "execution": {
     "iopub.execute_input": "2023-09-14T12:26:12.726141Z",
     "iopub.status.busy": "2023-09-14T12:26:12.725062Z",
     "iopub.status.idle": "2023-09-14T12:26:12.732025Z",
     "shell.execute_reply": "2023-09-14T12:26:12.730888Z",
     "shell.execute_reply.started": "2023-09-14T12:26:12.726072Z"
    }
   },
   "outputs": [],
   "source": [
    "null_dates = null_data.index.tolist()"
   ]
  },
  {
   "cell_type": "code",
   "execution_count": 39,
   "metadata": {
    "execution": {
     "iopub.execute_input": "2023-09-14T12:26:12.734503Z",
     "iopub.status.busy": "2023-09-14T12:26:12.733775Z",
     "iopub.status.idle": "2023-09-14T12:26:12.754140Z",
     "shell.execute_reply": "2023-09-14T12:26:12.752478Z",
     "shell.execute_reply.started": "2023-09-14T12:26:12.734460Z"
    }
   },
   "outputs": [
    {
     "data": {
      "text/plain": [
       "[Timestamp('2013-11-28 00:00:00'),\n",
       " Timestamp('2013-12-25 00:00:00'),\n",
       " Timestamp('2014-01-01 00:00:00'),\n",
       " Timestamp('2014-01-20 00:00:00'),\n",
       " Timestamp('2014-02-17 00:00:00'),\n",
       " Timestamp('2014-04-18 00:00:00'),\n",
       " Timestamp('2014-05-26 00:00:00'),\n",
       " Timestamp('2014-07-04 00:00:00'),\n",
       " Timestamp('2014-09-01 00:00:00'),\n",
       " Timestamp('2014-11-27 00:00:00'),\n",
       " Timestamp('2014-12-25 00:00:00'),\n",
       " Timestamp('2015-01-01 00:00:00'),\n",
       " Timestamp('2015-01-19 00:00:00'),\n",
       " Timestamp('2015-02-16 00:00:00'),\n",
       " Timestamp('2015-04-03 00:00:00'),\n",
       " Timestamp('2015-05-25 00:00:00'),\n",
       " Timestamp('2015-07-03 00:00:00'),\n",
       " Timestamp('2015-09-07 00:00:00'),\n",
       " Timestamp('2015-11-26 00:00:00'),\n",
       " Timestamp('2015-12-25 00:00:00'),\n",
       " Timestamp('2016-01-01 00:00:00'),\n",
       " Timestamp('2016-01-18 00:00:00'),\n",
       " Timestamp('2016-02-15 00:00:00'),\n",
       " Timestamp('2016-03-25 00:00:00'),\n",
       " Timestamp('2016-05-30 00:00:00'),\n",
       " Timestamp('2016-07-04 00:00:00'),\n",
       " Timestamp('2016-09-05 00:00:00'),\n",
       " Timestamp('2016-11-24 00:00:00'),\n",
       " Timestamp('2016-12-26 00:00:00'),\n",
       " Timestamp('2017-01-02 00:00:00'),\n",
       " Timestamp('2017-01-16 00:00:00'),\n",
       " Timestamp('2017-02-20 00:00:00'),\n",
       " Timestamp('2017-04-14 00:00:00'),\n",
       " Timestamp('2017-05-29 00:00:00'),\n",
       " Timestamp('2017-07-04 00:00:00'),\n",
       " Timestamp('2017-09-04 00:00:00'),\n",
       " Timestamp('2017-11-23 00:00:00'),\n",
       " Timestamp('2017-12-25 00:00:00'),\n",
       " Timestamp('2018-01-01 00:00:00'),\n",
       " Timestamp('2018-01-15 00:00:00'),\n",
       " Timestamp('2018-02-19 00:00:00'),\n",
       " Timestamp('2018-03-30 00:00:00'),\n",
       " Timestamp('2018-05-28 00:00:00'),\n",
       " Timestamp('2018-07-04 00:00:00'),\n",
       " Timestamp('2018-09-03 00:00:00'),\n",
       " Timestamp('2018-11-22 00:00:00'),\n",
       " Timestamp('2018-12-05 00:00:00'),\n",
       " Timestamp('2018-12-25 00:00:00'),\n",
       " Timestamp('2019-01-01 00:00:00'),\n",
       " Timestamp('2019-01-21 00:00:00'),\n",
       " Timestamp('2019-02-18 00:00:00'),\n",
       " Timestamp('2019-04-19 00:00:00'),\n",
       " Timestamp('2019-05-27 00:00:00'),\n",
       " Timestamp('2019-07-04 00:00:00'),\n",
       " Timestamp('2019-09-02 00:00:00'),\n",
       " Timestamp('2019-11-28 00:00:00'),\n",
       " Timestamp('2019-12-25 00:00:00'),\n",
       " Timestamp('2020-01-01 00:00:00'),\n",
       " Timestamp('2020-01-20 00:00:00'),\n",
       " Timestamp('2020-02-17 00:00:00'),\n",
       " Timestamp('2020-04-10 00:00:00'),\n",
       " Timestamp('2020-05-25 00:00:00'),\n",
       " Timestamp('2020-07-03 00:00:00'),\n",
       " Timestamp('2020-09-07 00:00:00'),\n",
       " Timestamp('2020-11-26 00:00:00'),\n",
       " Timestamp('2020-12-25 00:00:00'),\n",
       " Timestamp('2021-01-01 00:00:00'),\n",
       " Timestamp('2021-01-18 00:00:00'),\n",
       " Timestamp('2021-02-15 00:00:00'),\n",
       " Timestamp('2021-04-02 00:00:00'),\n",
       " Timestamp('2021-05-31 00:00:00'),\n",
       " Timestamp('2021-07-05 00:00:00'),\n",
       " Timestamp('2021-09-06 00:00:00'),\n",
       " Timestamp('2021-11-25 00:00:00'),\n",
       " Timestamp('2021-12-24 00:00:00'),\n",
       " Timestamp('2022-01-17 00:00:00'),\n",
       " Timestamp('2022-02-21 00:00:00'),\n",
       " Timestamp('2022-04-15 00:00:00'),\n",
       " Timestamp('2022-05-30 00:00:00'),\n",
       " Timestamp('2022-06-20 00:00:00'),\n",
       " Timestamp('2022-07-04 00:00:00'),\n",
       " Timestamp('2022-09-05 00:00:00')]"
      ]
     },
     "execution_count": 39,
     "metadata": {},
     "output_type": "execute_result"
    }
   ],
   "source": [
    "null_dates"
   ]
  },
  {
   "cell_type": "code",
   "execution_count": 40,
   "metadata": {
    "execution": {
     "iopub.execute_input": "2023-09-14T12:26:12.757857Z",
     "iopub.status.busy": "2023-09-14T12:26:12.755990Z",
     "iopub.status.idle": "2023-09-14T12:26:12.786699Z",
     "shell.execute_reply": "2023-09-14T12:26:12.785200Z",
     "shell.execute_reply.started": "2023-09-14T12:26:12.757810Z"
    }
   },
   "outputs": [
    {
     "name": "stdout",
     "output_type": "stream",
     "text": [
      "[Timestamp('2018-12-05 00:00:00'), Timestamp('2022-06-20 00:00:00')]\n"
     ]
    }
   ],
   "source": [
    "# Filtering out the Holidays\n",
    "\n",
    "import calendar\n",
    "import datetime\n",
    "\n",
    "holidays = []\n",
    "\n",
    "for date in null_dates:\n",
    "    week, day, month, year = date.weekday(), date.day, date.month, date.year\n",
    "    week_day = calendar.day_name[week]\n",
    "\n",
    "    if month==1:\n",
    "        if day==1:\n",
    "            # New year day\n",
    "            holidays.append(date)\n",
    "        elif day==2 and week_day=='Monday':\n",
    "            # Observed New Year Day\n",
    "            holidays.append(date)\n",
    "        elif day>=15 and day<=21 and week_day=='Monday':\n",
    "            # Martin Luther King, Jr. Day\n",
    "            holidays.append(date)\n",
    "\n",
    "    elif month==2:\n",
    "        # Washington's Birthday\n",
    "        if day>=15 and day<=21 and week_day=='Monday':\n",
    "            holidays.append(date)\n",
    "\n",
    "    elif month==5:\n",
    "        # Memorial day\n",
    "        if day>=25 and day<=31 and week_day=='Monday':\n",
    "            holidays.append(date)\n",
    "\n",
    "    elif month==7:\n",
    "        # Independence day\n",
    "        if day==4:\n",
    "            holidays.append(date)\n",
    "        # Observed Independence  Day\n",
    "        elif day==5 and week_day=='Monday':\n",
    "            holidays.append(date)\n",
    "        elif day==3 and week_day=='Friday':\n",
    "            holidays.append(date)\n",
    "\n",
    "    elif month == 9:\n",
    "        # Labour day\n",
    "        if day>=1 and day<=7 and week_day=='Monday':\n",
    "            holidays.append(date)\n",
    "\n",
    "    elif month==11:\n",
    "        # Thanksgiving Day\n",
    "        if week_day=='Thursday' and day>=22 and day<=28:\n",
    "            holidays.append(date)\n",
    "\n",
    "    elif month==12:\n",
    "        # Christmas Day\n",
    "        if day==25:\n",
    "            holidays.append(date)\n",
    "        # Observed Christmas Day\n",
    "        elif day==24 and week_day=='Friday':\n",
    "            holidays.append(date)\n",
    "        elif day==26 and week_day=='Monday':\n",
    "            holidays.append(date)\n",
    "\n",
    "good_fridays = [datetime.date(2014,4,18), datetime.date(2015,4,3), datetime.date(2016,3,25), datetime.date(2017,4, 14), datetime.date(2018,3, 30), datetime.date(2019,4, 19), datetime.date(2020,4, 10), datetime.date(2021,4, 2), datetime.date(2022,4, 15) ]\n",
    "holidays = holidays + [pd.to_datetime(date) for date in good_fridays]\n",
    "\n",
    "non_holidays = [x for x in null_dates if x not in holidays]\n",
    "print(non_holidays)"
   ]
  },
  {
   "cell_type": "code",
   "execution_count": 41,
   "metadata": {
    "execution": {
     "iopub.execute_input": "2023-09-14T12:26:12.793856Z",
     "iopub.status.busy": "2023-09-14T12:26:12.793066Z",
     "iopub.status.idle": "2023-09-14T12:26:12.803663Z",
     "shell.execute_reply": "2023-09-14T12:26:12.802026Z",
     "shell.execute_reply.started": "2023-09-14T12:26:12.793809Z"
    }
   },
   "outputs": [
    {
     "name": "stdout",
     "output_type": "stream",
     "text": [
      "(2261, 7)\n"
     ]
    }
   ],
   "source": [
    "modified_df = Data.drop(holidays)\n",
    "print(modified_df.shape)"
   ]
  },
  {
   "cell_type": "code",
   "execution_count": 42,
   "metadata": {
    "execution": {
     "iopub.execute_input": "2023-09-14T12:26:12.805893Z",
     "iopub.status.busy": "2023-09-14T12:26:12.805493Z",
     "iopub.status.idle": "2023-09-14T12:26:12.816160Z",
     "shell.execute_reply": "2023-09-14T12:26:12.814886Z",
     "shell.execute_reply.started": "2023-09-14T12:26:12.805857Z"
    }
   },
   "outputs": [
    {
     "name": "stdout",
     "output_type": "stream",
     "text": [
      "Before filling missing values:\n",
      " Open         2\n",
      "High         2\n",
      "Low          2\n",
      "Close        2\n",
      "Adj Close    2\n",
      "Volume       2\n",
      "year         2\n",
      "dtype: int64\n"
     ]
    }
   ],
   "source": [
    "print(\"Before filling missing values:\\n\", modified_df.isnull().sum())"
   ]
  },
  {
   "cell_type": "code",
   "execution_count": 43,
   "metadata": {
    "execution": {
     "iopub.execute_input": "2023-09-14T12:26:12.820010Z",
     "iopub.status.busy": "2023-09-14T12:26:12.819565Z",
     "iopub.status.idle": "2023-09-14T12:26:12.834116Z",
     "shell.execute_reply": "2023-09-14T12:26:12.832787Z",
     "shell.execute_reply.started": "2023-09-14T12:26:12.819960Z"
    }
   },
   "outputs": [],
   "source": [
    "modified_df = modified_df.bfill(axis ='rows')"
   ]
  },
  {
   "cell_type": "code",
   "execution_count": 44,
   "metadata": {
    "execution": {
     "iopub.execute_input": "2023-09-14T12:26:12.837372Z",
     "iopub.status.busy": "2023-09-14T12:26:12.836892Z",
     "iopub.status.idle": "2023-09-14T12:26:12.847202Z",
     "shell.execute_reply": "2023-09-14T12:26:12.845525Z",
     "shell.execute_reply.started": "2023-09-14T12:26:12.837336Z"
    }
   },
   "outputs": [
    {
     "name": "stdout",
     "output_type": "stream",
     "text": [
      "\n",
      "After filling missing values:\n",
      " Open         0\n",
      "High         0\n",
      "Low          0\n",
      "Close        0\n",
      "Adj Close    0\n",
      "Volume       0\n",
      "year         0\n",
      "dtype: int64\n"
     ]
    }
   ],
   "source": [
    "print(\"\\nAfter filling missing values:\\n\",modified_df.isna().sum())"
   ]
  },
  {
   "cell_type": "code",
   "execution_count": 45,
   "metadata": {
    "execution": {
     "iopub.execute_input": "2023-09-14T12:26:12.849582Z",
     "iopub.status.busy": "2023-09-14T12:26:12.849046Z",
     "iopub.status.idle": "2023-09-14T12:26:12.875836Z",
     "shell.execute_reply": "2023-09-14T12:26:12.874504Z",
     "shell.execute_reply.started": "2023-09-14T12:26:12.849547Z"
    }
   },
   "outputs": [
    {
     "data": {
      "text/html": [
       "<div>\n",
       "<style scoped>\n",
       "    .dataframe tbody tr th:only-of-type {\n",
       "        vertical-align: middle;\n",
       "    }\n",
       "\n",
       "    .dataframe tbody tr th {\n",
       "        vertical-align: top;\n",
       "    }\n",
       "\n",
       "    .dataframe thead th {\n",
       "        text-align: right;\n",
       "    }\n",
       "</style>\n",
       "<table border=\"1\" class=\"dataframe\">\n",
       "  <thead>\n",
       "    <tr style=\"text-align: right;\">\n",
       "      <th></th>\n",
       "      <th>Open</th>\n",
       "      <th>High</th>\n",
       "      <th>Low</th>\n",
       "      <th>Close</th>\n",
       "      <th>Adj Close</th>\n",
       "      <th>Volume</th>\n",
       "      <th>year</th>\n",
       "    </tr>\n",
       "    <tr>\n",
       "      <th>Date</th>\n",
       "      <th></th>\n",
       "      <th></th>\n",
       "      <th></th>\n",
       "      <th></th>\n",
       "      <th></th>\n",
       "      <th></th>\n",
       "      <th></th>\n",
       "    </tr>\n",
       "  </thead>\n",
       "  <tbody>\n",
       "    <tr>\n",
       "      <th>2013-11-07</th>\n",
       "      <td>45.099998</td>\n",
       "      <td>50.090000</td>\n",
       "      <td>44.000000</td>\n",
       "      <td>44.900002</td>\n",
       "      <td>44.900002</td>\n",
       "      <td>117701670.0</td>\n",
       "      <td>2013.0</td>\n",
       "    </tr>\n",
       "    <tr>\n",
       "      <th>2013-11-08</th>\n",
       "      <td>45.930000</td>\n",
       "      <td>46.939999</td>\n",
       "      <td>40.685001</td>\n",
       "      <td>41.650002</td>\n",
       "      <td>41.650002</td>\n",
       "      <td>27925307.0</td>\n",
       "      <td>2013.0</td>\n",
       "    </tr>\n",
       "    <tr>\n",
       "      <th>2013-11-11</th>\n",
       "      <td>40.500000</td>\n",
       "      <td>43.000000</td>\n",
       "      <td>39.400002</td>\n",
       "      <td>42.900002</td>\n",
       "      <td>42.900002</td>\n",
       "      <td>16113941.0</td>\n",
       "      <td>2013.0</td>\n",
       "    </tr>\n",
       "    <tr>\n",
       "      <th>2013-11-12</th>\n",
       "      <td>43.660000</td>\n",
       "      <td>43.779999</td>\n",
       "      <td>41.830002</td>\n",
       "      <td>41.900002</td>\n",
       "      <td>41.900002</td>\n",
       "      <td>6316755.0</td>\n",
       "      <td>2013.0</td>\n",
       "    </tr>\n",
       "    <tr>\n",
       "      <th>2013-11-13</th>\n",
       "      <td>41.029999</td>\n",
       "      <td>42.869999</td>\n",
       "      <td>40.759998</td>\n",
       "      <td>42.599998</td>\n",
       "      <td>42.599998</td>\n",
       "      <td>8688325.0</td>\n",
       "      <td>2013.0</td>\n",
       "    </tr>\n",
       "  </tbody>\n",
       "</table>\n",
       "</div>"
      ],
      "text/plain": [
       "                 Open       High        Low      Close  Adj Close  \\\n",
       "Date                                                                \n",
       "2013-11-07  45.099998  50.090000  44.000000  44.900002  44.900002   \n",
       "2013-11-08  45.930000  46.939999  40.685001  41.650002  41.650002   \n",
       "2013-11-11  40.500000  43.000000  39.400002  42.900002  42.900002   \n",
       "2013-11-12  43.660000  43.779999  41.830002  41.900002  41.900002   \n",
       "2013-11-13  41.029999  42.869999  40.759998  42.599998  42.599998   \n",
       "\n",
       "                 Volume    year  \n",
       "Date                             \n",
       "2013-11-07  117701670.0  2013.0  \n",
       "2013-11-08   27925307.0  2013.0  \n",
       "2013-11-11   16113941.0  2013.0  \n",
       "2013-11-12    6316755.0  2013.0  \n",
       "2013-11-13    8688325.0  2013.0  "
      ]
     },
     "execution_count": 45,
     "metadata": {},
     "output_type": "execute_result"
    }
   ],
   "source": [
    "modified_df.head()"
   ]
  },
  {
   "cell_type": "markdown",
   "metadata": {},
   "source": [
    "# Data Visualizing"
   ]
  },
  {
   "cell_type": "code",
   "execution_count": 46,
   "metadata": {
    "execution": {
     "iopub.execute_input": "2023-09-14T12:26:12.895037Z",
     "iopub.status.busy": "2023-09-14T12:26:12.894585Z",
     "iopub.status.idle": "2023-09-14T12:26:15.641744Z",
     "shell.execute_reply": "2023-09-14T12:26:15.640331Z",
     "shell.execute_reply.started": "2023-09-14T12:26:12.894973Z"
    }
   },
   "outputs": [
    {
     "data": {
      "text/plain": [
       "array([[<matplotlib.axes._subplots.AxesSubplot object at 0x7f6852893d30>,\n",
       "        <matplotlib.axes._subplots.AxesSubplot object at 0x7f684a870358>,\n",
       "        <matplotlib.axes._subplots.AxesSubplot object at 0x7f684a81f908>],\n",
       "       [<matplotlib.axes._subplots.AxesSubplot object at 0x7f684a84deb8>,\n",
       "        <matplotlib.axes._subplots.AxesSubplot object at 0x7f684a8074a8>,\n",
       "        <matplotlib.axes._subplots.AxesSubplot object at 0x7f684a7b4a58>],\n",
       "       [<matplotlib.axes._subplots.AxesSubplot object at 0x7f684a76f048>,\n",
       "        <matplotlib.axes._subplots.AxesSubplot object at 0x7f684a71e630>,\n",
       "        <matplotlib.axes._subplots.AxesSubplot object at 0x7f684a71e668>]],\n",
       "      dtype=object)"
      ]
     },
     "execution_count": 46,
     "metadata": {},
     "output_type": "execute_result"
    },
    {
     "data": {
      "image/png": "[encoded data removed]",
      "text/plain": [
       "<Figure size 1080x720 with 9 Axes>"
      ]
     },
     "metadata": {
      "needs_background": "light"
     },
     "output_type": "display_data"
    }
   ],
   "source": [
    "modified_df.hist(bins = 50, figsize = (15,10))"
   ]
  },
  {
   "cell_type": "code",
   "execution_count": 47,
   "metadata": {
    "execution": {
     "iopub.execute_input": "2023-09-14T12:26:15.645214Z",
     "iopub.status.busy": "2023-09-14T12:26:15.644678Z",
     "iopub.status.idle": "2023-09-14T12:26:16.245640Z",
     "shell.execute_reply": "2023-09-14T12:26:16.244387Z",
     "shell.execute_reply.started": "2023-09-14T12:26:15.645165Z"
    }
   },
   "outputs": [
    {
     "data": {
      "text/plain": [
       "<matplotlib.axes._subplots.AxesSubplot at 0x7f684a3fb3c8>"
      ]
     },
     "execution_count": 47,
     "metadata": {},
     "output_type": "execute_result"
    },
    {
     "data": {
      "image/png": "[encoded data removed]",
      "text/plain": [
       "<Figure size 936x576 with 2 Axes>"
      ]
     },
     "metadata": {
      "needs_background": "light"
     },
     "output_type": "display_data"
    }
   ],
   "source": [
    "plt.figure(figsize=(13,8))\n",
    "sns.heatmap(df.corr(),annot=True)"
   ]
  },
  {
   "cell_type": "code",
   "execution_count": 48,
   "metadata": {
    "execution": {
     "iopub.execute_input": "2023-09-14T12:26:16.248818Z",
     "iopub.status.busy": "2023-09-14T12:26:16.247913Z",
     "iopub.status.idle": "2023-09-14T12:26:16.257331Z",
     "shell.execute_reply": "2023-09-14T12:26:16.256131Z",
     "shell.execute_reply.started": "2023-09-14T12:26:16.248771Z"
    }
   },
   "outputs": [],
   "source": [
    "modified_df.drop('Adj Close',axis=1,inplace=True)"
   ]
  },
  {
   "cell_type": "code",
   "execution_count": 49,
   "metadata": {
    "execution": {
     "iopub.execute_input": "2023-09-14T12:26:16.261178Z",
     "iopub.status.busy": "2023-09-14T12:26:16.259923Z",
     "iopub.status.idle": "2023-09-14T12:26:16.289547Z",
     "shell.execute_reply": "2023-09-14T12:26:16.288065Z",
     "shell.execute_reply.started": "2023-09-14T12:26:16.261136Z"
    }
   },
   "outputs": [
    {
     "data": {
      "text/html": [
       "<div>\n",
       "<style scoped>\n",
       "    .dataframe tbody tr th:only-of-type {\n",
       "        vertical-align: middle;\n",
       "    }\n",
       "\n",
       "    .dataframe tbody tr th {\n",
       "        vertical-align: top;\n",
       "    }\n",
       "\n",
       "    .dataframe thead th {\n",
       "        text-align: right;\n",
       "    }\n",
       "</style>\n",
       "<table border=\"1\" class=\"dataframe\">\n",
       "  <thead>\n",
       "    <tr style=\"text-align: right;\">\n",
       "      <th></th>\n",
       "      <th>Open</th>\n",
       "      <th>High</th>\n",
       "      <th>Low</th>\n",
       "      <th>Close</th>\n",
       "      <th>Volume</th>\n",
       "      <th>year</th>\n",
       "    </tr>\n",
       "    <tr>\n",
       "      <th>Date</th>\n",
       "      <th></th>\n",
       "      <th></th>\n",
       "      <th></th>\n",
       "      <th></th>\n",
       "      <th></th>\n",
       "      <th></th>\n",
       "    </tr>\n",
       "  </thead>\n",
       "  <tbody>\n",
       "    <tr>\n",
       "      <th>2013-11-07</th>\n",
       "      <td>45.099998</td>\n",
       "      <td>50.090000</td>\n",
       "      <td>44.000000</td>\n",
       "      <td>44.900002</td>\n",
       "      <td>117701670.0</td>\n",
       "      <td>2013.0</td>\n",
       "    </tr>\n",
       "    <tr>\n",
       "      <th>2013-11-08</th>\n",
       "      <td>45.930000</td>\n",
       "      <td>46.939999</td>\n",
       "      <td>40.685001</td>\n",
       "      <td>41.650002</td>\n",
       "      <td>27925307.0</td>\n",
       "      <td>2013.0</td>\n",
       "    </tr>\n",
       "    <tr>\n",
       "      <th>2013-11-11</th>\n",
       "      <td>40.500000</td>\n",
       "      <td>43.000000</td>\n",
       "      <td>39.400002</td>\n",
       "      <td>42.900002</td>\n",
       "      <td>16113941.0</td>\n",
       "      <td>2013.0</td>\n",
       "    </tr>\n",
       "    <tr>\n",
       "      <th>2013-11-12</th>\n",
       "      <td>43.660000</td>\n",
       "      <td>43.779999</td>\n",
       "      <td>41.830002</td>\n",
       "      <td>41.900002</td>\n",
       "      <td>6316755.0</td>\n",
       "      <td>2013.0</td>\n",
       "    </tr>\n",
       "    <tr>\n",
       "      <th>2013-11-13</th>\n",
       "      <td>41.029999</td>\n",
       "      <td>42.869999</td>\n",
       "      <td>40.759998</td>\n",
       "      <td>42.599998</td>\n",
       "      <td>8688325.0</td>\n",
       "      <td>2013.0</td>\n",
       "    </tr>\n",
       "    <tr>\n",
       "      <th>...</th>\n",
       "      <td>...</td>\n",
       "      <td>...</td>\n",
       "      <td>...</td>\n",
       "      <td>...</td>\n",
       "      <td>...</td>\n",
       "      <td>...</td>\n",
       "    </tr>\n",
       "    <tr>\n",
       "      <th>2022-10-21</th>\n",
       "      <td>50.000000</td>\n",
       "      <td>50.750000</td>\n",
       "      <td>49.549999</td>\n",
       "      <td>49.889999</td>\n",
       "      <td>51209029.0</td>\n",
       "      <td>2022.0</td>\n",
       "    </tr>\n",
       "    <tr>\n",
       "      <th>2022-10-24</th>\n",
       "      <td>50.709999</td>\n",
       "      <td>51.860001</td>\n",
       "      <td>50.520000</td>\n",
       "      <td>51.520000</td>\n",
       "      <td>22987553.0</td>\n",
       "      <td>2022.0</td>\n",
       "    </tr>\n",
       "    <tr>\n",
       "      <th>2022-10-25</th>\n",
       "      <td>52.415001</td>\n",
       "      <td>53.180000</td>\n",
       "      <td>52.200001</td>\n",
       "      <td>52.779999</td>\n",
       "      <td>35077848.0</td>\n",
       "      <td>2022.0</td>\n",
       "    </tr>\n",
       "    <tr>\n",
       "      <th>2022-10-26</th>\n",
       "      <td>52.950001</td>\n",
       "      <td>53.500000</td>\n",
       "      <td>52.770000</td>\n",
       "      <td>53.349998</td>\n",
       "      <td>28064973.0</td>\n",
       "      <td>2022.0</td>\n",
       "    </tr>\n",
       "    <tr>\n",
       "      <th>2022-10-27</th>\n",
       "      <td>53.910000</td>\n",
       "      <td>54.000000</td>\n",
       "      <td>53.700001</td>\n",
       "      <td>53.700001</td>\n",
       "      <td>136345128.0</td>\n",
       "      <td>2022.0</td>\n",
       "    </tr>\n",
       "  </tbody>\n",
       "</table>\n",
       "<p>2261 rows × 6 columns</p>\n",
       "</div>"
      ],
      "text/plain": [
       "                 Open       High        Low      Close       Volume    year\n",
       "Date                                                                       \n",
       "2013-11-07  45.099998  50.090000  44.000000  44.900002  117701670.0  2013.0\n",
       "2013-11-08  45.930000  46.939999  40.685001  41.650002   27925307.0  2013.0\n",
       "2013-11-11  40.500000  43.000000  39.400002  42.900002   16113941.0  2013.0\n",
       "2013-11-12  43.660000  43.779999  41.830002  41.900002    6316755.0  2013.0\n",
       "2013-11-13  41.029999  42.869999  40.759998  42.599998    8688325.0  2013.0\n",
       "...               ...        ...        ...        ...          ...     ...\n",
       "2022-10-21  50.000000  50.750000  49.549999  49.889999   51209029.0  2022.0\n",
       "2022-10-24  50.709999  51.860001  50.520000  51.520000   22987553.0  2022.0\n",
       "2022-10-25  52.415001  53.180000  52.200001  52.779999   35077848.0  2022.0\n",
       "2022-10-26  52.950001  53.500000  52.770000  53.349998   28064973.0  2022.0\n",
       "2022-10-27  53.910000  54.000000  53.700001  53.700001  136345128.0  2022.0\n",
       "\n",
       "[2261 rows x 6 columns]"
      ]
     },
     "execution_count": 49,
     "metadata": {},
     "output_type": "execute_result"
    }
   ],
   "source": [
    "modified_df"
   ]
  },
  {
   "cell_type": "code",
   "execution_count": 50,
   "metadata": {
    "execution": {
     "iopub.execute_input": "2023-09-14T12:26:16.291735Z",
     "iopub.status.busy": "2023-09-14T12:26:16.291279Z",
     "iopub.status.idle": "2023-09-14T12:26:16.615749Z",
     "shell.execute_reply": "2023-09-14T12:26:16.614320Z",
     "shell.execute_reply.started": "2023-09-14T12:26:16.291702Z"
    }
   },
   "outputs": [
    {
     "data": {
      "image/png": "[encoded data removed]",
      "text/plain": [
       "<Figure size 432x288 with 1 Axes>"
      ]
     },
     "metadata": {
      "needs_background": "light"
     },
     "output_type": "display_data"
    }
   ],
   "source": [
    "def plotter():\n",
    "    global closing_stock\n",
    "    \n",
    "    company_close = modified_df.Close.values.astype('float32')\n",
    "    company_close = company_close.reshape(-1, 1)\n",
    "    closing_stock = company_close\n",
    "    plt.xlabel('Time')\n",
    "    plt.ylabel(\"Twitter close stock prices\")\n",
    "    plt.title('prices Vs Time')\n",
    "    plt.grid(True)\n",
    "    plt.plot(company_close , 'b')\n",
    "    plt.show()\n",
    "\n",
    "plotter()"
   ]
  },
  {
   "cell_type": "code",
   "execution_count": 51,
   "metadata": {
    "execution": {
     "iopub.execute_input": "2023-09-14T12:26:16.618500Z",
     "iopub.status.busy": "2023-09-14T12:26:16.617963Z",
     "iopub.status.idle": "2023-09-14T12:26:17.065712Z",
     "shell.execute_reply": "2023-09-14T12:26:17.064217Z",
     "shell.execute_reply.started": "2023-09-14T12:26:16.618451Z"
    }
   },
   "outputs": [
    {
     "data": {
      "image/png": "[encoded data removed]",
      "text/plain": [
       "<Figure size 864x432 with 1 Axes>"
      ]
     },
     "metadata": {
      "needs_background": "light"
     },
     "output_type": "display_data"
    }
   ],
   "source": [
    "plt.figure(figsize=(12, 6))\n",
    "\n",
    "plt.plot(\n",
    "    modified_df.groupby(\"year\")[\"High\"].max(),\n",
    "    color=\"green\",\n",
    "    linewidth=2,\n",
    "    label=\"High\",\n",
    ")\n",
    "plt.plot(\n",
    "    modified_df.groupby(\"year\")[\"Low\"].min(),\n",
    "    color=\"red\",\n",
    "    linewidth=2,\n",
    "    label=\"Low\",\n",
    ")\n",
    "plt.plot(\n",
    "    modified_df.groupby(\"year\")[\"Open\"].max(),\n",
    "    color=\"green\",\n",
    "    linestyle=\"-.\",\n",
    "    linewidth=1,\n",
    "    label=\"Open\",\n",
    ")\n",
    "plt.plot(\n",
    "    modified_df.groupby(\"year\")[\"Close\"].min(),\n",
    "    color=\"red\",\n",
    "    linestyle=\"--\",\n",
    "    linewidth=1,\n",
    "    label=\"Close\",\n",
    ")\n",
    "\n",
    "plt.xlabel(\"Years\")\n",
    "plt.ylabel(\"Values in $\")\n",
    "plt.title(\"Stock Prices by Year\")\n",
    "plt.legend()\n",
    "plt.grid(True)\n",
    "plt.show()"
   ]
  },
  {
   "cell_type": "markdown",
   "metadata": {},
   "source": [
    "### **Splitting the Data**"
   ]
  },
  {
   "cell_type": "code",
   "execution_count": 52,
   "metadata": {
    "execution": {
     "iopub.execute_input": "2023-09-14T12:26:17.068059Z",
     "iopub.status.busy": "2023-09-14T12:26:17.067633Z",
     "iopub.status.idle": "2023-09-14T12:26:17.075569Z",
     "shell.execute_reply": "2023-09-14T12:26:17.074514Z",
     "shell.execute_reply.started": "2023-09-14T12:26:17.068020Z"
    }
   },
   "outputs": [
    {
     "name": "stdout",
     "output_type": "stream",
     "text": [
      "Train samples: 1808 Validation Samples: 226 Test Samples: 227\n"
     ]
    }
   ],
   "source": [
    "n_train = int(len(closing_stock) * 0.80)\n",
    "n_remaining = len(closing_stock) - n_train\n",
    "\n",
    "n_val = int(n_remaining*0.50)\n",
    "n_test = n_remaining - n_val \n",
    "print(\"Train samples:\",n_train, \"Validation Samples:\",n_val,\"Test Samples:\", n_test)"
   ]
  },
  {
   "cell_type": "code",
   "execution_count": 53,
   "metadata": {
    "execution": {
     "iopub.execute_input": "2023-09-14T12:26:17.078515Z",
     "iopub.status.busy": "2023-09-14T12:26:17.077161Z",
     "iopub.status.idle": "2023-09-14T12:26:17.093687Z",
     "shell.execute_reply": "2023-09-14T12:26:17.092071Z",
     "shell.execute_reply.started": "2023-09-14T12:26:17.078475Z"
    }
   },
   "outputs": [
    {
     "name": "stdout",
     "output_type": "stream",
     "text": [
      "(1808, 1)\n"
     ]
    }
   ],
   "source": [
    "train_data = closing_stock[0:n_train]\n",
    "print(train_data.shape)"
   ]
  },
  {
   "cell_type": "code",
   "execution_count": 54,
   "metadata": {
    "execution": {
     "iopub.execute_input": "2023-09-14T12:26:17.096194Z",
     "iopub.status.busy": "2023-09-14T12:26:17.095668Z",
     "iopub.status.idle": "2023-09-14T12:26:17.115998Z",
     "shell.execute_reply": "2023-09-14T12:26:17.114886Z",
     "shell.execute_reply.started": "2023-09-14T12:26:17.096147Z"
    }
   },
   "outputs": [
    {
     "name": "stdout",
     "output_type": "stream",
     "text": [
      "(226, 1)\n"
     ]
    }
   ],
   "source": [
    "val_data = closing_stock[n_train:n_train+n_val]\n",
    "print(val_data.shape)"
   ]
  },
  {
   "cell_type": "code",
   "execution_count": 55,
   "metadata": {
    "execution": {
     "iopub.execute_input": "2023-09-14T12:26:17.121452Z",
     "iopub.status.busy": "2023-09-14T12:26:17.121013Z",
     "iopub.status.idle": "2023-09-14T12:26:17.137762Z",
     "shell.execute_reply": "2023-09-14T12:26:17.136679Z",
     "shell.execute_reply.started": "2023-09-14T12:26:17.121419Z"
    }
   },
   "outputs": [
    {
     "name": "stdout",
     "output_type": "stream",
     "text": [
      "(227, 1)\n"
     ]
    }
   ],
   "source": [
    "test_data = closing_stock[n_train+n_val:]\n",
    "\n",
    "print(test_data.shape)"
   ]
  },
  {
   "cell_type": "markdown",
   "metadata": {
    "execution": {
     "iopub.execute_input": "2023-09-14T10:59:34.242194Z",
     "iopub.status.busy": "2023-09-14T10:59:34.241699Z",
     "iopub.status.idle": "2023-09-14T10:59:34.250044Z",
     "shell.execute_reply": "2023-09-14T10:59:34.247977Z",
     "shell.execute_reply.started": "2023-09-14T10:59:34.242157Z"
    }
   },
   "source": [
    "### Feature Scaling"
   ]
  },
  {
   "cell_type": "code",
   "execution_count": 56,
   "metadata": {
    "execution": {
     "iopub.execute_input": "2023-09-14T12:26:17.139858Z",
     "iopub.status.busy": "2023-09-14T12:26:17.139471Z",
     "iopub.status.idle": "2023-09-14T12:26:17.232768Z",
     "shell.execute_reply": "2023-09-14T12:26:17.231628Z",
     "shell.execute_reply.started": "2023-09-14T12:26:17.139826Z"
    }
   },
   "outputs": [],
   "source": [
    "scaler = MinMaxScaler(feature_range=(0, 1))"
   ]
  },
  {
   "cell_type": "code",
   "execution_count": 57,
   "metadata": {
    "execution": {
     "iopub.execute_input": "2023-09-14T12:26:17.235782Z",
     "iopub.status.busy": "2023-09-14T12:26:17.235006Z",
     "iopub.status.idle": "2023-09-14T12:26:17.243685Z",
     "shell.execute_reply": "2023-09-14T12:26:17.242238Z",
     "shell.execute_reply.started": "2023-09-14T12:26:17.235719Z"
    }
   },
   "outputs": [],
   "source": [
    "train = scaler.fit_transform(train_data)"
   ]
  },
  {
   "cell_type": "code",
   "execution_count": 58,
   "metadata": {
    "execution": {
     "iopub.execute_input": "2023-09-14T12:26:17.246388Z",
     "iopub.status.busy": "2023-09-14T12:26:17.245946Z",
     "iopub.status.idle": "2023-09-14T12:26:17.258817Z",
     "shell.execute_reply": "2023-09-14T12:26:17.257787Z",
     "shell.execute_reply.started": "2023-09-14T12:26:17.246345Z"
    }
   },
   "outputs": [],
   "source": [
    "val = scaler.transform(val_data)"
   ]
  },
  {
   "cell_type": "code",
   "execution_count": 59,
   "metadata": {
    "execution": {
     "iopub.execute_input": "2023-09-14T12:26:17.262707Z",
     "iopub.status.busy": "2023-09-14T12:26:17.260511Z",
     "iopub.status.idle": "2023-09-14T12:26:17.275685Z",
     "shell.execute_reply": "2023-09-14T12:26:17.274516Z",
     "shell.execute_reply.started": "2023-09-14T12:26:17.262628Z"
    }
   },
   "outputs": [],
   "source": [
    "test = scaler.transform(test_data)"
   ]
  },
  {
   "cell_type": "markdown",
   "metadata": {
    "execution": {
     "iopub.execute_input": "2023-09-14T11:01:19.080788Z",
     "iopub.status.busy": "2023-09-14T11:01:19.080317Z",
     "iopub.status.idle": "2023-09-14T11:01:19.086368Z",
     "shell.execute_reply": "2023-09-14T11:01:19.085044Z",
     "shell.execute_reply.started": "2023-09-14T11:01:19.080746Z"
    }
   },
   "source": [
    "### Create the Datasets"
   ]
  },
  {
   "cell_type": "code",
   "execution_count": 60,
   "metadata": {
    "execution": {
     "iopub.execute_input": "2023-09-14T12:26:17.278950Z",
     "iopub.status.busy": "2023-09-14T12:26:17.277377Z",
     "iopub.status.idle": "2023-09-14T12:26:17.290516Z",
     "shell.execute_reply": "2023-09-14T12:26:17.289484Z",
     "shell.execute_reply.started": "2023-09-14T12:26:17.278884Z"
    }
   },
   "outputs": [
    {
     "data": {
      "text/plain": [
       "array([[0.5209107 ],\n",
       "       [0.46610457],\n",
       "       [0.48718387],\n",
       "       ...,\n",
       "       [0.6318719 ],\n",
       "       [0.5762226 ],\n",
       "       [0.5569984 ]], dtype=float32)"
      ]
     },
     "execution_count": 60,
     "metadata": {},
     "output_type": "execute_result"
    }
   ],
   "source": [
    "train"
   ]
  },
  {
   "cell_type": "code",
   "execution_count": 61,
   "metadata": {
    "execution": {
     "iopub.execute_input": "2023-09-14T13:30:57.297414Z",
     "iopub.status.busy": "2023-09-14T13:30:57.296808Z",
     "iopub.status.idle": "2023-09-14T13:30:57.307551Z",
     "shell.execute_reply": "2023-09-14T13:30:57.305948Z",
     "shell.execute_reply.started": "2023-09-14T13:30:57.297374Z"
    }
   },
   "outputs": [],
   "source": [
    "def create_dataset(data , n_features):\n",
    "    dataX, dataY = [], []\n",
    "    for i in range(len(data)-n_features-1):\n",
    "        a = data[i:(i+n_features), 0]\n",
    "        dataX.append(a)\n",
    "        dataY.append(data[i + n_features, 0])\n",
    "    return np.array(dataX), np.array(dataY)"
   ]
  },
  {
   "cell_type": "code",
   "execution_count": 62,
   "metadata": {
    "execution": {
     "iopub.execute_input": "2023-09-14T13:31:09.655717Z",
     "iopub.status.busy": "2023-09-14T13:31:09.655158Z",
     "iopub.status.idle": "2023-09-14T13:31:09.671504Z",
     "shell.execute_reply": "2023-09-14T13:31:09.670038Z",
     "shell.execute_reply.started": "2023-09-14T13:31:09.655675Z"
    }
   },
   "outputs": [],
   "source": [
    "n_features = 2\n",
    "trainX, trainY = create_dataset(train, n_features)\n",
    "valX, valY = create_dataset(val, n_features)\n",
    "testX, testY = create_dataset(test, n_features)"
   ]
  },
  {
   "cell_type": "code",
   "execution_count": 63,
   "metadata": {
    "execution": {
     "iopub.execute_input": "2023-09-14T13:31:11.465268Z",
     "iopub.status.busy": "2023-09-14T13:31:11.464788Z",
     "iopub.status.idle": "2023-09-14T13:31:11.472352Z",
     "shell.execute_reply": "2023-09-14T13:31:11.471165Z",
     "shell.execute_reply.started": "2023-09-14T13:31:11.465232Z"
    }
   },
   "outputs": [
    {
     "name": "stdout",
     "output_type": "stream",
     "text": [
      "(1805, 2) (1805,) (223, 2) (223,) (224, 2) (224,)\n"
     ]
    }
   ],
   "source": [
    "print(trainX.shape , trainY.shape , valX.shape , valY.shape, testX.shape , testY.shape)"
   ]
  },
  {
   "cell_type": "code",
   "execution_count": 64,
   "metadata": {
    "execution": {
     "iopub.execute_input": "2023-09-14T13:31:13.275169Z",
     "iopub.status.busy": "2023-09-14T13:31:13.274608Z",
     "iopub.status.idle": "2023-09-14T13:31:13.282523Z",
     "shell.execute_reply": "2023-09-14T13:31:13.281399Z",
     "shell.execute_reply.started": "2023-09-14T13:31:13.275130Z"
    }
   },
   "outputs": [],
   "source": [
    "trainX = trainX.reshape(trainX.shape[0] , 1 ,trainX.shape[1])\n",
    "valX = valX.reshape(valX.shape[0] , 1 ,valX.shape[1])\n",
    "testX = testX.reshape(testX.shape[0] , 1 ,testX.shape[1])"
   ]
  },
  {
   "cell_type": "code",
   "execution_count": 65,
   "metadata": {
    "execution": {
     "iopub.execute_input": "2023-09-14T13:31:14.695204Z",
     "iopub.status.busy": "2023-09-14T13:31:14.694175Z",
     "iopub.status.idle": "2023-09-14T13:31:14.701447Z",
     "shell.execute_reply": "2023-09-14T13:31:14.700184Z",
     "shell.execute_reply.started": "2023-09-14T13:31:14.695161Z"
    }
   },
   "outputs": [
    {
     "name": "stdout",
     "output_type": "stream",
     "text": [
      "(1805, 1, 2) (1805,) (223, 1, 2) (223,) (224, 1, 2) (224,)\n"
     ]
    }
   ],
   "source": [
    "print(trainX.shape , trainY.shape , valX.shape , valY.shape, testX.shape , testY.shape)"
   ]
  },
  {
   "cell_type": "markdown",
   "metadata": {},
   "source": [
    "# Build the Model"
   ]
  },
  {
   "cell_type": "code",
   "execution_count": 66,
   "metadata": {
    "execution": {
     "iopub.execute_input": "2023-09-14T13:19:42.836121Z",
     "iopub.status.busy": "2023-09-14T13:19:42.835207Z",
     "iopub.status.idle": "2023-09-14T13:19:42.850746Z",
     "shell.execute_reply": "2023-09-14T13:19:42.849292Z",
     "shell.execute_reply.started": "2023-09-14T13:19:42.836052Z"
    }
   },
   "outputs": [],
   "source": [
    "model = keras.models.Sequential()"
   ]
  },
  {
   "cell_type": "code",
   "execution_count": 67,
   "metadata": {
    "execution": {
     "iopub.execute_input": "2023-09-14T13:19:51.885995Z",
     "iopub.status.busy": "2023-09-14T13:19:51.885493Z",
     "iopub.status.idle": "2023-09-14T13:19:52.844838Z",
     "shell.execute_reply": "2023-09-14T13:19:52.843686Z",
     "shell.execute_reply.started": "2023-09-14T13:19:51.885958Z"
    }
   },
   "outputs": [],
   "source": [
    "# First GRU layer\n",
    "model.add(layers.GRU(units=100, return_sequences=True, input_shape=(1,n_features), activation='tanh'))\n",
    "model.add(layers.Dropout(0.2))\n",
    "\n",
    "# Second GRU layer\n",
    "model.add(layers.GRU(units=150, return_sequences=True, input_shape=(1,n_features), activation='tanh'))\n",
    "model.add(layers.Dropout(0.2))\n",
    "\n",
    "# Third GRU layer\n",
    "model.add(layers.GRU(units=100, activation='tanh'))\n",
    "model.add(layers.Dropout(0.2))\n",
    "\n",
    "# The output layer\n",
    "model.add(layers.Dense(units=1, kernel_initializer='he_uniform', activation='linear'))"
   ]
  },
  {
   "cell_type": "code",
   "execution_count": 68,
   "metadata": {
    "execution": {
     "iopub.execute_input": "2023-09-14T13:19:57.925894Z",
     "iopub.status.busy": "2023-09-14T13:19:57.925422Z",
     "iopub.status.idle": "2023-09-14T13:19:57.944471Z",
     "shell.execute_reply": "2023-09-14T13:19:57.943283Z",
     "shell.execute_reply.started": "2023-09-14T13:19:57.925861Z"
    }
   },
   "outputs": [
    {
     "name": "stderr",
     "output_type": "stream",
     "text": [
      "/usr/local/anaconda/envs/tensorflow2/lib/python3.6/site-packages/keras/optimizer_v2/optimizer_v2.py:356: UserWarning: The `lr` argument is deprecated, use `learning_rate` instead.\n",
      "  \"The `lr` argument is deprecated, use `learning_rate` instead.\")\n"
     ]
    }
   ],
   "source": [
    "model.compile(loss='mean_squared_error', optimizer=Adam(lr = 0.0005) , metrics = ['mean_squared_error'])"
   ]
  },
  {
   "cell_type": "code",
   "execution_count": 69,
   "metadata": {
    "execution": {
     "iopub.execute_input": "2023-09-14T13:20:00.314810Z",
     "iopub.status.busy": "2023-09-14T13:20:00.314325Z",
     "iopub.status.idle": "2023-09-14T13:20:00.355156Z",
     "shell.execute_reply": "2023-09-14T13:20:00.353724Z",
     "shell.execute_reply.started": "2023-09-14T13:20:00.314770Z"
    }
   },
   "outputs": [
    {
     "name": "stdout",
     "output_type": "stream",
     "text": [
      "Model: \"sequential\"\n",
      "_________________________________________________________________\n",
      "Layer (type)                 Output Shape              Param #   \n",
      "=================================================================\n",
      "gru (GRU)                    (None, 1, 100)            31200     \n",
      "_________________________________________________________________\n",
      "dropout (Dropout)            (None, 1, 100)            0         \n",
      "_________________________________________________________________\n",
      "gru_1 (GRU)                  (None, 1, 150)            113400    \n",
      "_________________________________________________________________\n",
      "dropout_1 (Dropout)          (None, 1, 150)            0         \n",
      "_________________________________________________________________\n",
      "gru_2 (GRU)                  (None, 100)               75600     \n",
      "_________________________________________________________________\n",
      "dropout_2 (Dropout)          (None, 100)               0         \n",
      "_________________________________________________________________\n",
      "dense (Dense)                (None, 1)                 101       \n",
      "=================================================================\n",
      "Total params: 220,301\n",
      "Trainable params: 220,301\n",
      "Non-trainable params: 0\n",
      "_________________________________________________________________\n",
      "None\n"
     ]
    }
   ],
   "source": [
    "print(model.summary())"
   ]
  },
  {
   "cell_type": "code",
   "execution_count": 70,
   "metadata": {
    "execution": {
     "iopub.execute_input": "2023-09-14T13:20:04.585810Z",
     "iopub.status.busy": "2023-09-14T13:20:04.585327Z",
     "iopub.status.idle": "2023-09-14T13:20:43.148567Z",
     "shell.execute_reply": "2023-09-14T13:20:43.147347Z",
     "shell.execute_reply.started": "2023-09-14T13:20:04.585774Z"
    }
   },
   "outputs": [
    {
     "name": "stdout",
     "output_type": "stream",
     "text": [
      "Epoch 1/100\n",
      "15/15 [==============================] - 7s 90ms/step - loss: 0.0756 - mean_squared_error: 0.0756 - val_loss: 0.1582 - val_mean_squared_error: 0.1582\n",
      "Epoch 2/100\n",
      "15/15 [==============================] - 0s 13ms/step - loss: 0.0175 - mean_squared_error: 0.0175 - val_loss: 0.0286 - val_mean_squared_error: 0.0286\n",
      "Epoch 3/100\n",
      "15/15 [==============================] - 0s 13ms/step - loss: 0.0106 - mean_squared_error: 0.0106 - val_loss: 0.0370 - val_mean_squared_error: 0.0370\n",
      "Epoch 4/100\n",
      "15/15 [==============================] - 0s 15ms/step - loss: 0.0046 - mean_squared_error: 0.0046 - val_loss: 0.0030 - val_mean_squared_error: 0.0030\n",
      "Epoch 5/100\n",
      "15/15 [==============================] - 0s 14ms/step - loss: 0.0021 - mean_squared_error: 0.0021 - val_loss: 0.0023 - val_mean_squared_error: 0.0023\n",
      "Epoch 6/100\n",
      "15/15 [==============================] - 0s 13ms/step - loss: 0.0019 - mean_squared_error: 0.0019 - val_loss: 0.0016 - val_mean_squared_error: 0.0016\n",
      "Epoch 7/100\n",
      "15/15 [==============================] - 0s 12ms/step - loss: 0.0017 - mean_squared_error: 0.0017 - val_loss: 0.0012 - val_mean_squared_error: 0.0012\n",
      "Epoch 8/100\n",
      "15/15 [==============================] - 0s 13ms/step - loss: 0.0016 - mean_squared_error: 0.0016 - val_loss: 0.0012 - val_mean_squared_error: 0.0012\n",
      "Epoch 9/100\n",
      "15/15 [==============================] - 0s 13ms/step - loss: 0.0019 - mean_squared_error: 0.0019 - val_loss: 0.0012 - val_mean_squared_error: 0.0012\n",
      "Epoch 10/100\n",
      "15/15 [==============================] - 0s 12ms/step - loss: 0.0017 - mean_squared_error: 0.0017 - val_loss: 0.0014 - val_mean_squared_error: 0.0014\n",
      "Epoch 11/100\n",
      "15/15 [==============================] - 0s 13ms/step - loss: 0.0017 - mean_squared_error: 0.0017 - val_loss: 0.0011 - val_mean_squared_error: 0.0011\n",
      "Epoch 12/100\n",
      "15/15 [==============================] - 0s 13ms/step - loss: 0.0015 - mean_squared_error: 0.0015 - val_loss: 0.0012 - val_mean_squared_error: 0.0012\n",
      "Epoch 13/100\n",
      "15/15 [==============================] - 0s 13ms/step - loss: 0.0017 - mean_squared_error: 0.0017 - val_loss: 0.0012 - val_mean_squared_error: 0.0012\n",
      "Epoch 14/100\n",
      "15/15 [==============================] - 0s 13ms/step - loss: 0.0017 - mean_squared_error: 0.0017 - val_loss: 0.0011 - val_mean_squared_error: 0.0011\n",
      "Epoch 15/100\n",
      "15/15 [==============================] - 0s 12ms/step - loss: 0.0015 - mean_squared_error: 0.0015 - val_loss: 0.0012 - val_mean_squared_error: 0.0012\n",
      "Epoch 16/100\n",
      "15/15 [==============================] - 0s 12ms/step - loss: 0.0014 - mean_squared_error: 0.0014 - val_loss: 0.0015 - val_mean_squared_error: 0.0015\n",
      "Epoch 17/100\n",
      "15/15 [==============================] - 0s 12ms/step - loss: 0.0015 - mean_squared_error: 0.0015 - val_loss: 0.0012 - val_mean_squared_error: 0.0012\n",
      "Epoch 18/100\n",
      "15/15 [==============================] - 0s 13ms/step - loss: 0.0015 - mean_squared_error: 0.0015 - val_loss: 0.0011 - val_mean_squared_error: 0.0011\n",
      "Epoch 19/100\n",
      "15/15 [==============================] - 0s 13ms/step - loss: 0.0014 - mean_squared_error: 0.0014 - val_loss: 0.0011 - val_mean_squared_error: 0.0011\n",
      "Epoch 20/100\n",
      "15/15 [==============================] - 0s 13ms/step - loss: 0.0014 - mean_squared_error: 0.0014 - val_loss: 0.0012 - val_mean_squared_error: 0.0012\n",
      "Epoch 21/100\n",
      "15/15 [==============================] - 0s 12ms/step - loss: 0.0014 - mean_squared_error: 0.0014 - val_loss: 0.0011 - val_mean_squared_error: 0.0011\n",
      "Epoch 22/100\n",
      "15/15 [==============================] - 0s 12ms/step - loss: 0.0014 - mean_squared_error: 0.0014 - val_loss: 0.0011 - val_mean_squared_error: 0.0011\n",
      "Epoch 23/100\n",
      "15/15 [==============================] - 0s 13ms/step - loss: 0.0014 - mean_squared_error: 0.0014 - val_loss: 0.0012 - val_mean_squared_error: 0.0012\n",
      "Epoch 24/100\n",
      "15/15 [==============================] - 0s 12ms/step - loss: 0.0013 - mean_squared_error: 0.0013 - val_loss: 0.0011 - val_mean_squared_error: 0.0011\n",
      "Epoch 25/100\n",
      "15/15 [==============================] - 0s 13ms/step - loss: 0.0013 - mean_squared_error: 0.0013 - val_loss: 0.0012 - val_mean_squared_error: 0.0012\n",
      "Epoch 26/100\n",
      "15/15 [==============================] - 0s 13ms/step - loss: 0.0013 - mean_squared_error: 0.0013 - val_loss: 0.0011 - val_mean_squared_error: 0.0011\n",
      "Epoch 27/100\n",
      "15/15 [==============================] - 0s 12ms/step - loss: 0.0013 - mean_squared_error: 0.0013 - val_loss: 0.0010 - val_mean_squared_error: 0.0010\n",
      "Epoch 28/100\n",
      "15/15 [==============================] - 0s 12ms/step - loss: 0.0012 - mean_squared_error: 0.0012 - val_loss: 0.0013 - val_mean_squared_error: 0.0013\n",
      "Epoch 29/100\n",
      "15/15 [==============================] - 0s 13ms/step - loss: 0.0014 - mean_squared_error: 0.0014 - val_loss: 0.0010 - val_mean_squared_error: 0.0010\n",
      "Epoch 30/100\n",
      "15/15 [==============================] - 0s 13ms/step - loss: 0.0014 - mean_squared_error: 0.0014 - val_loss: 0.0013 - val_mean_squared_error: 0.0013\n",
      "Epoch 31/100\n",
      "15/15 [==============================] - 0s 12ms/step - loss: 0.0012 - mean_squared_error: 0.0012 - val_loss: 0.0015 - val_mean_squared_error: 0.0015\n",
      "Epoch 32/100\n",
      "15/15 [==============================] - 0s 12ms/step - loss: 0.0013 - mean_squared_error: 0.0013 - val_loss: 0.0012 - val_mean_squared_error: 0.0012\n",
      "Epoch 33/100\n",
      "15/15 [==============================] - 0s 13ms/step - loss: 0.0012 - mean_squared_error: 0.0012 - val_loss: 0.0012 - val_mean_squared_error: 0.0012\n",
      "Epoch 34/100\n",
      "15/15 [==============================] - 0s 13ms/step - loss: 0.0012 - mean_squared_error: 0.0012 - val_loss: 0.0021 - val_mean_squared_error: 0.0021\n",
      "Epoch 35/100\n",
      "15/15 [==============================] - 0s 13ms/step - loss: 0.0011 - mean_squared_error: 0.0011 - val_loss: 0.0018 - val_mean_squared_error: 0.0018\n",
      "Epoch 36/100\n",
      "15/15 [==============================] - 0s 12ms/step - loss: 0.0012 - mean_squared_error: 0.0012 - val_loss: 0.0012 - val_mean_squared_error: 0.0012\n",
      "Epoch 37/100\n",
      "15/15 [==============================] - 0s 12ms/step - loss: 0.0013 - mean_squared_error: 0.0013 - val_loss: 0.0016 - val_mean_squared_error: 0.0016\n",
      "Epoch 38/100\n",
      "15/15 [==============================] - 0s 13ms/step - loss: 0.0012 - mean_squared_error: 0.0012 - val_loss: 0.0011 - val_mean_squared_error: 0.0011\n",
      "Epoch 39/100\n",
      "15/15 [==============================] - 0s 12ms/step - loss: 0.0012 - mean_squared_error: 0.0012 - val_loss: 0.0011 - val_mean_squared_error: 0.0011\n",
      "Epoch 40/100\n",
      "15/15 [==============================] - 0s 13ms/step - loss: 0.0011 - mean_squared_error: 0.0011 - val_loss: 0.0014 - val_mean_squared_error: 0.0014\n",
      "Epoch 41/100\n",
      "15/15 [==============================] - 0s 13ms/step - loss: 0.0012 - mean_squared_error: 0.0012 - val_loss: 0.0020 - val_mean_squared_error: 0.0020\n",
      "Epoch 42/100\n",
      "15/15 [==============================] - 0s 13ms/step - loss: 0.0012 - mean_squared_error: 0.0012 - val_loss: 0.0016 - val_mean_squared_error: 0.0016\n",
      "Epoch 43/100\n",
      "15/15 [==============================] - 0s 13ms/step - loss: 0.0012 - mean_squared_error: 0.0012 - val_loss: 0.0017 - val_mean_squared_error: 0.0017\n",
      "Epoch 44/100\n",
      "15/15 [==============================] - 0s 12ms/step - loss: 0.0012 - mean_squared_error: 0.0012 - val_loss: 0.0014 - val_mean_squared_error: 0.0014\n",
      "Epoch 45/100\n",
      "15/15 [==============================] - 0s 12ms/step - loss: 0.0011 - mean_squared_error: 0.0011 - val_loss: 0.0011 - val_mean_squared_error: 0.0011\n",
      "Epoch 46/100\n",
      "15/15 [==============================] - 0s 13ms/step - loss: 0.0011 - mean_squared_error: 0.0011 - val_loss: 0.0012 - val_mean_squared_error: 0.0012\n",
      "Epoch 47/100\n",
      "15/15 [==============================] - 0s 13ms/step - loss: 0.0011 - mean_squared_error: 0.0011 - val_loss: 0.0017 - val_mean_squared_error: 0.0017\n",
      "Epoch 48/100\n",
      "15/15 [==============================] - 0s 14ms/step - loss: 0.0011 - mean_squared_error: 0.0011 - val_loss: 0.0012 - val_mean_squared_error: 0.0012\n",
      "Epoch 49/100\n",
      "15/15 [==============================] - 0s 13ms/step - loss: 0.0013 - mean_squared_error: 0.0013 - val_loss: 0.0012 - val_mean_squared_error: 0.0012\n",
      "Epoch 50/100\n",
      "15/15 [==============================] - 0s 13ms/step - loss: 0.0011 - mean_squared_error: 0.0011 - val_loss: 9.7296e-04 - val_mean_squared_error: 9.7296e-04\n",
      "Epoch 51/100\n",
      "15/15 [==============================] - 0s 13ms/step - loss: 0.0012 - mean_squared_error: 0.0012 - val_loss: 0.0016 - val_mean_squared_error: 0.0016\n",
      "Epoch 52/100\n",
      "15/15 [==============================] - 0s 13ms/step - loss: 0.0011 - mean_squared_error: 0.0011 - val_loss: 0.0015 - val_mean_squared_error: 0.0015\n",
      "Epoch 53/100\n",
      "15/15 [==============================] - 0s 13ms/step - loss: 0.0012 - mean_squared_error: 0.0012 - val_loss: 0.0029 - val_mean_squared_error: 0.0029\n",
      "Epoch 54/100\n",
      "15/15 [==============================] - 0s 13ms/step - loss: 0.0011 - mean_squared_error: 0.0011 - val_loss: 0.0012 - val_mean_squared_error: 0.0012\n",
      "Epoch 55/100\n",
      "15/15 [==============================] - 0s 13ms/step - loss: 0.0011 - mean_squared_error: 0.0011 - val_loss: 0.0012 - val_mean_squared_error: 0.0012\n",
      "Epoch 56/100\n",
      "15/15 [==============================] - 0s 13ms/step - loss: 9.9060e-04 - mean_squared_error: 9.9060e-04 - val_loss: 0.0013 - val_mean_squared_error: 0.0013\n",
      "Epoch 57/100\n",
      "15/15 [==============================] - 0s 14ms/step - loss: 9.8732e-04 - mean_squared_error: 9.8732e-04 - val_loss: 0.0014 - val_mean_squared_error: 0.0014\n",
      "Epoch 58/100\n",
      "15/15 [==============================] - 0s 14ms/step - loss: 9.7187e-04 - mean_squared_error: 9.7187e-04 - val_loss: 9.5487e-04 - val_mean_squared_error: 9.5487e-04\n",
      "Epoch 59/100\n",
      "15/15 [==============================] - 0s 13ms/step - loss: 0.0011 - mean_squared_error: 0.0011 - val_loss: 0.0012 - val_mean_squared_error: 0.0012\n",
      "Epoch 60/100\n",
      "15/15 [==============================] - 0s 13ms/step - loss: 9.4655e-04 - mean_squared_error: 9.4655e-04 - val_loss: 0.0013 - val_mean_squared_error: 0.0013\n",
      "Epoch 61/100\n",
      "15/15 [==============================] - 0s 14ms/step - loss: 0.0010 - mean_squared_error: 0.0010 - val_loss: 0.0011 - val_mean_squared_error: 0.0011\n",
      "Epoch 62/100\n",
      "15/15 [==============================] - 0s 13ms/step - loss: 0.0010 - mean_squared_error: 0.0010 - val_loss: 0.0012 - val_mean_squared_error: 0.0012\n",
      "Epoch 63/100\n",
      "15/15 [==============================] - 0s 13ms/step - loss: 0.0010 - mean_squared_error: 0.0010 - val_loss: 0.0015 - val_mean_squared_error: 0.0015\n",
      "Epoch 64/100\n",
      "15/15 [==============================] - 0s 13ms/step - loss: 0.0010 - mean_squared_error: 0.0010 - val_loss: 0.0017 - val_mean_squared_error: 0.0017\n",
      "Epoch 65/100\n",
      "15/15 [==============================] - 0s 13ms/step - loss: 0.0010 - mean_squared_error: 0.0010 - val_loss: 0.0012 - val_mean_squared_error: 0.0012\n",
      "Epoch 66/100\n",
      "15/15 [==============================] - 0s 13ms/step - loss: 9.6190e-04 - mean_squared_error: 9.6190e-04 - val_loss: 0.0017 - val_mean_squared_error: 0.0017\n",
      "Epoch 67/100\n",
      "15/15 [==============================] - 0s 16ms/step - loss: 0.0010 - mean_squared_error: 0.0010 - val_loss: 9.8860e-04 - val_mean_squared_error: 9.8860e-04\n",
      "Epoch 68/100\n",
      "15/15 [==============================] - 0s 20ms/step - loss: 0.0010 - mean_squared_error: 0.0010 - val_loss: 0.0012 - val_mean_squared_error: 0.0012\n",
      "Epoch 69/100\n",
      "15/15 [==============================] - 0s 21ms/step - loss: 9.8026e-04 - mean_squared_error: 9.8026e-04 - val_loss: 0.0017 - val_mean_squared_error: 0.0017\n",
      "Epoch 70/100\n",
      "15/15 [==============================] - 0s 23ms/step - loss: 0.0010 - mean_squared_error: 0.0010 - val_loss: 9.6450e-04 - val_mean_squared_error: 9.6450e-04\n",
      "Epoch 71/100\n",
      "15/15 [==============================] - 0s 18ms/step - loss: 0.0010 - mean_squared_error: 0.0010 - val_loss: 0.0010 - val_mean_squared_error: 0.0010\n",
      "Epoch 72/100\n",
      "15/15 [==============================] - 0s 14ms/step - loss: 0.0011 - mean_squared_error: 0.0011 - val_loss: 9.4045e-04 - val_mean_squared_error: 9.4045e-04\n",
      "Epoch 73/100\n",
      "15/15 [==============================] - 0s 13ms/step - loss: 9.3544e-04 - mean_squared_error: 9.3544e-04 - val_loss: 0.0012 - val_mean_squared_error: 0.0012\n",
      "Epoch 74/100\n",
      "15/15 [==============================] - 0s 13ms/step - loss: 9.8884e-04 - mean_squared_error: 9.8884e-04 - val_loss: 0.0016 - val_mean_squared_error: 0.0016\n",
      "Epoch 75/100\n",
      "15/15 [==============================] - 0s 13ms/step - loss: 0.0010 - mean_squared_error: 0.0010 - val_loss: 0.0010 - val_mean_squared_error: 0.0010\n",
      "Epoch 76/100\n",
      "15/15 [==============================] - 0s 12ms/step - loss: 9.4418e-04 - mean_squared_error: 9.4418e-04 - val_loss: 0.0024 - val_mean_squared_error: 0.0024\n",
      "Epoch 77/100\n",
      "15/15 [==============================] - 0s 12ms/step - loss: 0.0011 - mean_squared_error: 0.0011 - val_loss: 9.6897e-04 - val_mean_squared_error: 9.6897e-04\n",
      "Epoch 78/100\n",
      "15/15 [==============================] - 0s 13ms/step - loss: 0.0011 - mean_squared_error: 0.0011 - val_loss: 0.0011 - val_mean_squared_error: 0.0011\n",
      "Epoch 79/100\n",
      "15/15 [==============================] - 0s 13ms/step - loss: 9.3976e-04 - mean_squared_error: 9.3976e-04 - val_loss: 0.0019 - val_mean_squared_error: 0.0019\n",
      "Epoch 80/100\n",
      "15/15 [==============================] - 0s 13ms/step - loss: 9.3186e-04 - mean_squared_error: 9.3186e-04 - val_loss: 0.0010 - val_mean_squared_error: 0.0010\n",
      "Epoch 81/100\n",
      "15/15 [==============================] - 0s 13ms/step - loss: 9.9323e-04 - mean_squared_error: 9.9323e-04 - val_loss: 0.0013 - val_mean_squared_error: 0.0013\n",
      "Epoch 82/100\n",
      "15/15 [==============================] - 0s 13ms/step - loss: 9.7990e-04 - mean_squared_error: 9.7990e-04 - val_loss: 0.0012 - val_mean_squared_error: 0.0012\n",
      "Epoch 83/100\n",
      "15/15 [==============================] - 0s 13ms/step - loss: 8.8062e-04 - mean_squared_error: 8.8062e-04 - val_loss: 0.0013 - val_mean_squared_error: 0.0013\n",
      "Epoch 84/100\n",
      "15/15 [==============================] - 0s 13ms/step - loss: 9.7224e-04 - mean_squared_error: 9.7224e-04 - val_loss: 0.0010 - val_mean_squared_error: 0.0010\n",
      "Epoch 85/100\n",
      "15/15 [==============================] - 0s 13ms/step - loss: 9.1931e-04 - mean_squared_error: 9.1931e-04 - val_loss: 9.8476e-04 - val_mean_squared_error: 9.8476e-04\n",
      "Epoch 86/100\n",
      "15/15 [==============================] - 0s 13ms/step - loss: 9.3905e-04 - mean_squared_error: 9.3905e-04 - val_loss: 0.0013 - val_mean_squared_error: 0.0013\n",
      "Epoch 87/100\n",
      "15/15 [==============================] - 0s 12ms/step - loss: 9.8717e-04 - mean_squared_error: 9.8717e-04 - val_loss: 0.0011 - val_mean_squared_error: 0.0011\n",
      "Epoch 88/100\n",
      "15/15 [==============================] - 0s 12ms/step - loss: 0.0010 - mean_squared_error: 0.0010 - val_loss: 0.0012 - val_mean_squared_error: 0.0012\n",
      "Epoch 89/100\n",
      "15/15 [==============================] - 0s 12ms/step - loss: 9.0536e-04 - mean_squared_error: 9.0536e-04 - val_loss: 9.0694e-04 - val_mean_squared_error: 9.0694e-04\n",
      "Epoch 90/100\n",
      "15/15 [==============================] - 0s 13ms/step - loss: 9.1557e-04 - mean_squared_error: 9.1557e-04 - val_loss: 0.0018 - val_mean_squared_error: 0.0018\n",
      "Epoch 91/100\n",
      "15/15 [==============================] - 0s 12ms/step - loss: 9.5247e-04 - mean_squared_error: 9.5247e-04 - val_loss: 9.1531e-04 - val_mean_squared_error: 9.1531e-04\n",
      "Epoch 92/100\n",
      "15/15 [==============================] - 0s 12ms/step - loss: 0.0010 - mean_squared_error: 0.0010 - val_loss: 0.0013 - val_mean_squared_error: 0.0013\n",
      "Epoch 93/100\n",
      "15/15 [==============================] - 0s 13ms/step - loss: 9.4825e-04 - mean_squared_error: 9.4825e-04 - val_loss: 9.9474e-04 - val_mean_squared_error: 9.9474e-04\n",
      "Epoch 94/100\n",
      "15/15 [==============================] - 0s 13ms/step - loss: 9.2660e-04 - mean_squared_error: 9.2660e-04 - val_loss: 0.0014 - val_mean_squared_error: 0.0014\n",
      "Epoch 95/100\n",
      "15/15 [==============================] - 0s 13ms/step - loss: 9.6094e-04 - mean_squared_error: 9.6094e-04 - val_loss: 0.0010 - val_mean_squared_error: 0.0010\n",
      "Epoch 96/100\n",
      "15/15 [==============================] - 0s 13ms/step - loss: 8.8691e-04 - mean_squared_error: 8.8691e-04 - val_loss: 0.0011 - val_mean_squared_error: 0.0011\n",
      "Epoch 97/100\n",
      "15/15 [==============================] - 0s 12ms/step - loss: 9.0915e-04 - mean_squared_error: 9.0915e-04 - val_loss: 0.0023 - val_mean_squared_error: 0.0023\n",
      "Epoch 98/100\n",
      "15/15 [==============================] - 0s 14ms/step - loss: 0.0010 - mean_squared_error: 0.0010 - val_loss: 9.1397e-04 - val_mean_squared_error: 9.1397e-04\n",
      "Epoch 99/100\n",
      "15/15 [==============================] - 0s 13ms/step - loss: 0.0010 - mean_squared_error: 0.0010 - val_loss: 0.0011 - val_mean_squared_error: 0.0011\n",
      "Epoch 100/100\n",
      "15/15 [==============================] - 0s 13ms/step - loss: 9.7526e-04 - mean_squared_error: 9.7526e-04 - val_loss: 0.0010 - val_mean_squared_error: 0.0010\n"
     ]
    }
   ],
   "source": [
    "history = model.fit(trainX,trainY,epochs=100,batch_size=128, verbose=1, validation_data = (valX,valY))"
   ]
  },
  {
   "cell_type": "markdown",
   "metadata": {},
   "source": [
    "# Evaluate the Model"
   ]
  },
  {
   "cell_type": "code",
   "execution_count": 71,
   "metadata": {
    "execution": {
     "iopub.execute_input": "2023-09-14T13:21:01.746078Z",
     "iopub.status.busy": "2023-09-14T13:21:01.745542Z",
     "iopub.status.idle": "2023-09-14T13:21:02.281168Z",
     "shell.execute_reply": "2023-09-14T13:21:02.279801Z",
     "shell.execute_reply.started": "2023-09-14T13:21:01.746034Z"
    }
   },
   "outputs": [
    {
     "name": "stdout",
     "output_type": "stream",
     "text": [
      "Train Score:\n",
      "MSE: 0.00044 , RMSE: 0.02\n",
      "Validation Score:\n",
      "MSE: 0.00101 , RMSE: 0.03\n",
      "Test Score:\n",
      "MSE: 0.00064 , RMSE: 0.03\n"
     ]
    }
   ],
   "source": [
    "import math\n",
    "\n",
    "def model_score(model, X_train, y_train, X_val, y_val , X_test, y_test):\n",
    "    print('Train Score:')\n",
    "    train_score = model.evaluate(X_train, y_train, verbose=0)\n",
    "    print(\"MSE: {:.5f} , RMSE: {:.2f}\".format(train_score[0], math.sqrt(train_score[0])))\n",
    "\n",
    "    print('Validation Score:')\n",
    "    val_score = model.evaluate(X_val, y_val, verbose=0)\n",
    "    print(\"MSE: {:.5f} , RMSE: {:.2f}\".format (val_score[0], math.sqrt(val_score[0])))\n",
    "\n",
    "    print('Test Score:')\n",
    "    test_score = model.evaluate(X_test, y_test, verbose=0)\n",
    "    print(\"MSE: {:.5f} , RMSE: {:.2f}\".format (test_score[0], math.sqrt(test_score[0])))\n",
    "\n",
    "\n",
    "model_score(model, trainX, trainY ,valX, valY , testX, testY)"
   ]
  },
  {
   "cell_type": "markdown",
   "metadata": {
    "execution": {
     "iopub.execute_input": "2023-09-14T13:02:37.815953Z",
     "iopub.status.busy": "2023-09-14T13:02:37.815439Z",
     "iopub.status.idle": "2023-09-14T13:02:37.821968Z",
     "shell.execute_reply": "2023-09-14T13:02:37.820788Z",
     "shell.execute_reply.started": "2023-09-14T13:02:37.815917Z"
    }
   },
   "source": [
    "# Visualizing Loss vs Epochs"
   ]
  },
  {
   "cell_type": "code",
   "execution_count": 72,
   "metadata": {
    "execution": {
     "iopub.execute_input": "2023-09-14T13:21:22.617031Z",
     "iopub.status.busy": "2023-09-14T13:21:22.616493Z",
     "iopub.status.idle": "2023-09-14T13:21:22.623650Z",
     "shell.execute_reply": "2023-09-14T13:21:22.622500Z",
     "shell.execute_reply.started": "2023-09-14T13:21:22.616995Z"
    }
   },
   "outputs": [
    {
     "name": "stdout",
     "output_type": "stream",
     "text": [
      "dict_keys(['loss', 'mean_squared_error', 'val_loss', 'val_mean_squared_error'])\n"
     ]
    }
   ],
   "source": [
    "print(history.history.keys())"
   ]
  },
  {
   "cell_type": "code",
   "execution_count": 73,
   "metadata": {
    "execution": {
     "iopub.execute_input": "2023-09-14T13:21:22.634961Z",
     "iopub.status.busy": "2023-09-14T13:21:22.634460Z",
     "iopub.status.idle": "2023-09-14T13:21:22.970487Z",
     "shell.execute_reply": "2023-09-14T13:21:22.969132Z",
     "shell.execute_reply.started": "2023-09-14T13:21:22.634923Z"
    }
   },
   "outputs": [
    {
     "data": {
      "image/png": "[encoded data removed]",
      "text/plain": [
       "<Figure size 432x288 with 1 Axes>"
      ]
     },
     "metadata": {
      "needs_background": "light"
     },
     "output_type": "display_data"
    }
   ],
   "source": [
    "plt.plot(history.history['loss'])  # plotting train loss\n",
    "plt.plot(history.history['val_loss'])  # plotting validation loss\n",
    "\n",
    "plt.title('model loss')\n",
    "plt.ylabel('loss')\n",
    "plt.xlabel('epoch')\n",
    "plt.legend(['train', 'val'], loc='upper left')\n",
    "plt.show()"
   ]
  },
  {
   "cell_type": "code",
   "execution_count": 74,
   "metadata": {
    "execution": {
     "iopub.execute_input": "2023-09-14T13:06:14.066348Z",
     "iopub.status.busy": "2023-09-14T13:06:14.065746Z",
     "iopub.status.idle": "2023-09-14T13:06:15.525574Z",
     "shell.execute_reply": "2023-09-14T13:06:15.523911Z",
     "shell.execute_reply.started": "2023-09-14T13:06:14.066307Z"
    }
   },
   "outputs": [
    {
     "name": "stdout",
     "output_type": "stream",
     "text": [
      "[[44.536747]\n",
      " [45.667217]\n",
      " [46.4326  ]\n",
      " [45.685207]\n",
      " [44.750862]\n",
      " [44.44846 ]\n",
      " [44.176468]\n",
      " [43.308117]\n",
      " [43.177307]\n",
      " [43.091366]]\n"
     ]
    }
   ],
   "source": [
    "pred = model.predict(testX)\n",
    "pred = scaler.inverse_transform(pred)\n",
    "print(pred[:10])"
   ]
  },
  {
   "cell_type": "code",
   "execution_count": 75,
   "metadata": {
    "execution": {
     "iopub.execute_input": "2023-09-14T13:06:15.529760Z",
     "iopub.status.busy": "2023-09-14T13:06:15.528687Z",
     "iopub.status.idle": "2023-09-14T13:06:15.541637Z",
     "shell.execute_reply": "2023-09-14T13:06:15.540160Z",
     "shell.execute_reply.started": "2023-09-14T13:06:15.529686Z"
    }
   },
   "outputs": [
    {
     "name": "stdout",
     "output_type": "stream",
     "text": [
      "[[45.72]\n",
      " [46.46]\n",
      " [45.56]\n",
      " [44.6 ]\n",
      " [44.35]\n",
      " [44.07]\n",
      " [43.13]\n",
      " [43.07]\n",
      " [42.98]\n",
      " [44.36]]\n"
     ]
    }
   ],
   "source": [
    "testY_actual = testY.reshape(testY.shape[0] , 1)\n",
    "testY_actual = scaler.inverse_transform(testY_actual)\n",
    "print(testY_actual[:10])"
   ]
  },
  {
   "cell_type": "code",
   "execution_count": 76,
   "metadata": {
    "execution": {
     "iopub.execute_input": "2023-09-14T13:06:22.395671Z",
     "iopub.status.busy": "2023-09-14T13:06:22.395182Z",
     "iopub.status.idle": "2023-09-14T13:06:22.739799Z",
     "shell.execute_reply": "2023-09-14T13:06:22.738277Z",
     "shell.execute_reply.started": "2023-09-14T13:06:22.395636Z"
    }
   },
   "outputs": [
    {
     "data": {
      "image/png": "[encoded data removed]",
      "text/plain": [
       "<Figure size 432x288 with 1 Axes>"
      ]
     },
     "metadata": {
      "needs_background": "light"
     },
     "output_type": "display_data"
    }
   ],
   "source": [
    "plt.plot(testY_actual , 'b')\n",
    "plt.plot(pred , 'r')\n",
    "\n",
    "plt.xlabel('Time')\n",
    "plt.ylabel('Stock Prices')\n",
    "plt.title('Check the performance of the model with time')\n",
    "plt.legend(['Actual', 'Predicted'], loc='upper left')\n",
    "\n",
    "plt.grid(True)\n",
    "plt.show()"
   ]
  },
  {
   "cell_type": "code",
   "execution_count": null,
   "metadata": {},
   "outputs": [],
   "source": []
  },
  {
   "cell_type": "code",
   "execution_count": null,
   "metadata": {},
   "outputs": [],
   "source": []
  }
 ],
 "metadata": {
  "kernelspec": {
   "display_name": "tensorflow2",
   "language": "python",
   "name": "tensorflow2"
  },
  "language_info": {
   "codemirror_mode": {
    "name": "ipython",
    "version": 3
   },
   "file_extension": ".py",
   "mimetype": "text/x-python",
   "name": "python",
   "nbconvert_exporter": "python",
   "pygments_lexer": "ipython3",
   "version": "3.6.8"
  },
  "toc": {
   "base_numbering": 1,
   "nav_menu": {},
   "number_sections": true,
   "sideBar": true,
   "skip_h1_title": false,
   "title_cell": "Table of Contents",
   "title_sidebar": "Contents",
   "toc_cell": false,
   "toc_position": {},
   "toc_section_display": true,
   "toc_window_display": false
  }
 },
 "nbformat": 4,
 "nbformat_minor": 4
}
